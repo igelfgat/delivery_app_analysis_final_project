{
 "cells": [
  {
   "attachments": {},
   "cell_type": "markdown",
   "metadata": {},
   "source": [
    "Data Cleaning and Manipulation"
   ]
  },
  {
   "cell_type": "code",
   "execution_count": 11,
   "metadata": {},
   "outputs": [
    {
     "name": "stderr",
     "output_type": "stream",
     "text": [
      "/var/folders/8h/hbj9kb412sz4vmszf826vrrc0000gn/T/ipykernel_59379/159337376.py:3: DtypeWarning: Columns (5) have mixed types. Specify dtype option on import or set low_memory=False.\n",
      "  menu_df = pd.read_csv('datasets/menu.csv')\n"
     ]
    }
   ],
   "source": [
    "import pandas as pd\n",
    "food_df = pd.read_csv('datasets/food.csv')\n",
    "menu_df = pd.read_csv('datasets/menu.csv')\n",
    "orders_df = pd.read_csv('datasets/orders.csv')\n",
    "restaurant_df = pd.read_csv('datasets/restaurant.csv')\n",
    "users_df = pd.read_csv('datasets/users.csv')"
   ]
  },
  {
   "cell_type": "code",
   "execution_count": 12,
   "metadata": {},
   "outputs": [
    {
     "data": {
      "text/plain": [
       "Unnamed: 0        0\n",
       "f_id              0\n",
       "item              1\n",
       "veg_or_non_veg    1\n",
       "dtype: int64"
      ]
     },
     "execution_count": 12,
     "metadata": {},
     "output_type": "execute_result"
    }
   ],
   "source": [
    "food_df.isnull().sum()"
   ]
  },
  {
   "cell_type": "code",
   "execution_count": 13,
   "metadata": {},
   "outputs": [
    {
     "name": "stdout",
     "output_type": "stream",
     "text": [
      "<class 'pandas.core.frame.DataFrame'>\n",
      "RangeIndex: 371561 entries, 0 to 371560\n",
      "Data columns (total 4 columns):\n",
      " #   Column          Non-Null Count   Dtype \n",
      "---  ------          --------------   ----- \n",
      " 0   Unnamed: 0      371561 non-null  int64 \n",
      " 1   f_id            371561 non-null  object\n",
      " 2   item            371560 non-null  object\n",
      " 3   veg_or_non_veg  371560 non-null  object\n",
      "dtypes: int64(1), object(3)\n",
      "memory usage: 11.3+ MB\n"
     ]
    }
   ],
   "source": [
    "food_df.info()"
   ]
  },
  {
   "cell_type": "code",
   "execution_count": 14,
   "metadata": {},
   "outputs": [],
   "source": [
    "food_df.dropna(inplace=True)"
   ]
  },
  {
   "cell_type": "code",
   "execution_count": 15,
   "metadata": {},
   "outputs": [],
   "source": [
    "food_df = food_df.drop(columns=['Unnamed: 0'])\n"
   ]
  },
  {
   "cell_type": "code",
   "execution_count": 16,
   "metadata": {},
   "outputs": [],
   "source": [
    "food_df.to_csv('cleaned_food.csv', index=False)"
   ]
  },
  {
   "cell_type": "code",
   "execution_count": 18,
   "metadata": {},
   "outputs": [
    {
     "data": {
      "text/plain": [
       "Index(['f_id', 'item', 'veg_or_non_veg'], dtype='object')"
      ]
     },
     "execution_count": 18,
     "metadata": {},
     "output_type": "execute_result"
    }
   ],
   "source": [
    "food_df.columns"
   ]
  },
  {
   "cell_type": "code",
   "execution_count": 17,
   "metadata": {},
   "outputs": [
    {
     "data": {
      "text/html": [
       "<div>\n",
       "<style scoped>\n",
       "    .dataframe tbody tr th:only-of-type {\n",
       "        vertical-align: middle;\n",
       "    }\n",
       "\n",
       "    .dataframe tbody tr th {\n",
       "        vertical-align: top;\n",
       "    }\n",
       "\n",
       "    .dataframe thead th {\n",
       "        text-align: right;\n",
       "    }\n",
       "</style>\n",
       "<table border=\"1\" class=\"dataframe\">\n",
       "  <thead>\n",
       "    <tr style=\"text-align: right;\">\n",
       "      <th></th>\n",
       "      <th>f_id</th>\n",
       "      <th>item</th>\n",
       "      <th>veg_or_non_veg</th>\n",
       "    </tr>\n",
       "  </thead>\n",
       "  <tbody>\n",
       "    <tr>\n",
       "      <th>0</th>\n",
       "      <td>fd0</td>\n",
       "      <td>Aloo Tikki Burger</td>\n",
       "      <td>Veg</td>\n",
       "    </tr>\n",
       "    <tr>\n",
       "      <th>1</th>\n",
       "      <td>fd1</td>\n",
       "      <td>Veg Creamy Burger</td>\n",
       "      <td>Veg</td>\n",
       "    </tr>\n",
       "    <tr>\n",
       "      <th>2</th>\n",
       "      <td>fd2</td>\n",
       "      <td>Cheese Burst Burger</td>\n",
       "      <td>Veg</td>\n",
       "    </tr>\n",
       "    <tr>\n",
       "      <th>3</th>\n",
       "      <td>fd3</td>\n",
       "      <td>Paneer Creamy Burger</td>\n",
       "      <td>Veg</td>\n",
       "    </tr>\n",
       "    <tr>\n",
       "      <th>4</th>\n",
       "      <td>fd4</td>\n",
       "      <td>Maxican Burger</td>\n",
       "      <td>Veg</td>\n",
       "    </tr>\n",
       "  </tbody>\n",
       "</table>\n",
       "</div>"
      ],
      "text/plain": [
       "  f_id                  item veg_or_non_veg\n",
       "0  fd0     Aloo Tikki Burger            Veg\n",
       "1  fd1     Veg Creamy Burger            Veg\n",
       "2  fd2   Cheese Burst Burger            Veg\n",
       "3  fd3  Paneer Creamy Burger            Veg\n",
       "4  fd4        Maxican Burger            Veg"
      ]
     },
     "execution_count": 17,
     "metadata": {},
     "output_type": "execute_result"
    }
   ],
   "source": [
    "food_df.head()"
   ]
  },
  {
   "cell_type": "code",
   "execution_count": 10,
   "metadata": {},
   "outputs": [
    {
     "data": {
      "text/plain": [
       "Unnamed: 0        0\n",
       "id                0\n",
       "name             86\n",
       "city              0\n",
       "rating           86\n",
       "rating_count     86\n",
       "cost            131\n",
       "cuisine          99\n",
       "lic_no          229\n",
       "link              0\n",
       "address          86\n",
       "menu              0\n",
       "dtype: int64"
      ]
     },
     "execution_count": 10,
     "metadata": {},
     "output_type": "execute_result"
    }
   ],
   "source": [
    "restaurant_df.isnull().sum()"
   ]
  },
  {
   "cell_type": "code",
   "execution_count": 20,
   "metadata": {},
   "outputs": [],
   "source": [
    "restaurant_df_updated = restaurant_df.drop(['Unnamed: 0','lic_no', 'link', 'menu', 'address'], axis=1)"
   ]
  },
  {
   "cell_type": "code",
   "execution_count": 24,
   "metadata": {},
   "outputs": [
    {
     "data": {
      "text/plain": [
       "id                0\n",
       "name             86\n",
       "city              0\n",
       "rating           86\n",
       "rating_count     86\n",
       "cost            131\n",
       "cuisine          99\n",
       "dtype: int64"
      ]
     },
     "execution_count": 24,
     "metadata": {},
     "output_type": "execute_result"
    }
   ],
   "source": [
    "restaurant_df_updated.isnull().sum()"
   ]
  },
  {
   "cell_type": "code",
   "execution_count": 25,
   "metadata": {},
   "outputs": [],
   "source": [
    "restaurant_df_updated.dropna(inplace=True)"
   ]
  },
  {
   "cell_type": "code",
   "execution_count": 26,
   "metadata": {},
   "outputs": [
    {
     "data": {
      "text/plain": [
       "Index(['id', 'name', 'city', 'rating', 'rating_count', 'cost', 'cuisine'], dtype='object')"
      ]
     },
     "execution_count": 26,
     "metadata": {},
     "output_type": "execute_result"
    }
   ],
   "source": [
    "restaurant_df_updated.columns"
   ]
  },
  {
   "cell_type": "code",
   "execution_count": 27,
   "metadata": {},
   "outputs": [
    {
     "name": "stdout",
     "output_type": "stream",
     "text": [
      "<class 'pandas.core.frame.DataFrame'>\n",
      "Index: 148398 entries, 0 to 148540\n",
      "Data columns (total 7 columns):\n",
      " #   Column        Non-Null Count   Dtype \n",
      "---  ------        --------------   ----- \n",
      " 0   id            148398 non-null  int64 \n",
      " 1   name          148398 non-null  object\n",
      " 2   city          148398 non-null  object\n",
      " 3   rating        148398 non-null  object\n",
      " 4   rating_count  148398 non-null  object\n",
      " 5   cost          148398 non-null  object\n",
      " 6   cuisine       148398 non-null  object\n",
      "dtypes: int64(1), object(6)\n",
      "memory usage: 9.1+ MB\n"
     ]
    }
   ],
   "source": [
    "restaurant_df_updated.info()"
   ]
  },
  {
   "cell_type": "code",
   "execution_count": 28,
   "metadata": {},
   "outputs": [
    {
     "data": {
      "text/html": [
       "<div>\n",
       "<style scoped>\n",
       "    .dataframe tbody tr th:only-of-type {\n",
       "        vertical-align: middle;\n",
       "    }\n",
       "\n",
       "    .dataframe tbody tr th {\n",
       "        vertical-align: top;\n",
       "    }\n",
       "\n",
       "    .dataframe thead th {\n",
       "        text-align: right;\n",
       "    }\n",
       "</style>\n",
       "<table border=\"1\" class=\"dataframe\">\n",
       "  <thead>\n",
       "    <tr style=\"text-align: right;\">\n",
       "      <th></th>\n",
       "      <th>id</th>\n",
       "      <th>name</th>\n",
       "      <th>city</th>\n",
       "      <th>rating</th>\n",
       "      <th>rating_count</th>\n",
       "      <th>cost</th>\n",
       "      <th>cuisine</th>\n",
       "    </tr>\n",
       "  </thead>\n",
       "  <tbody>\n",
       "    <tr>\n",
       "      <th>0</th>\n",
       "      <td>567335</td>\n",
       "      <td>AB FOODS POINT</td>\n",
       "      <td>Abohar</td>\n",
       "      <td>--</td>\n",
       "      <td>Too Few Ratings</td>\n",
       "      <td>₹ 200</td>\n",
       "      <td>Beverages,Pizzas</td>\n",
       "    </tr>\n",
       "    <tr>\n",
       "      <th>1</th>\n",
       "      <td>531342</td>\n",
       "      <td>Janta Sweet House</td>\n",
       "      <td>Abohar</td>\n",
       "      <td>4.4</td>\n",
       "      <td>50+ ratings</td>\n",
       "      <td>₹ 200</td>\n",
       "      <td>Sweets,Bakery</td>\n",
       "    </tr>\n",
       "    <tr>\n",
       "      <th>2</th>\n",
       "      <td>158203</td>\n",
       "      <td>theka coffee desi</td>\n",
       "      <td>Abohar</td>\n",
       "      <td>3.8</td>\n",
       "      <td>100+ ratings</td>\n",
       "      <td>₹ 100</td>\n",
       "      <td>Beverages</td>\n",
       "    </tr>\n",
       "    <tr>\n",
       "      <th>3</th>\n",
       "      <td>187912</td>\n",
       "      <td>Singh Hut</td>\n",
       "      <td>Abohar</td>\n",
       "      <td>3.7</td>\n",
       "      <td>20+ ratings</td>\n",
       "      <td>₹ 250</td>\n",
       "      <td>Fast Food,Indian</td>\n",
       "    </tr>\n",
       "    <tr>\n",
       "      <th>4</th>\n",
       "      <td>543530</td>\n",
       "      <td>GRILL MASTERS</td>\n",
       "      <td>Abohar</td>\n",
       "      <td>--</td>\n",
       "      <td>Too Few Ratings</td>\n",
       "      <td>₹ 250</td>\n",
       "      <td>Italian-American,Fast Food</td>\n",
       "    </tr>\n",
       "  </tbody>\n",
       "</table>\n",
       "</div>"
      ],
      "text/plain": [
       "       id               name    city rating     rating_count   cost  \\\n",
       "0  567335     AB FOODS POINT  Abohar     --  Too Few Ratings  ₹ 200   \n",
       "1  531342  Janta Sweet House  Abohar    4.4      50+ ratings  ₹ 200   \n",
       "2  158203  theka coffee desi  Abohar    3.8     100+ ratings  ₹ 100   \n",
       "3  187912          Singh Hut  Abohar    3.7      20+ ratings  ₹ 250   \n",
       "4  543530      GRILL MASTERS  Abohar     --  Too Few Ratings  ₹ 250   \n",
       "\n",
       "                      cuisine  \n",
       "0            Beverages,Pizzas  \n",
       "1               Sweets,Bakery  \n",
       "2                   Beverages  \n",
       "3            Fast Food,Indian  \n",
       "4  Italian-American,Fast Food  "
      ]
     },
     "execution_count": 28,
     "metadata": {},
     "output_type": "execute_result"
    }
   ],
   "source": [
    "restaurant_df_updated.head()"
   ]
  },
  {
   "cell_type": "code",
   "execution_count": 29,
   "metadata": {},
   "outputs": [
    {
     "data": {
      "text/plain": [
       "array(['--', '4.4', '3.8', '3.7', '3.6', '4.0', '4.2', '4.7', '4.1',\n",
       "       '3.5', '3.1', '3.4', '3.3', '4.8', '3.9', '2.7', '4.3', '2.9',\n",
       "       '4.5', '2.5', '3.2', '2.4', '4.6', '3.0', '2.8', '2.3', '5.0',\n",
       "       '2.6', '2.2', '1.4', '1.9', '4.9', '2.1', '1.3', '2.0', '1.8',\n",
       "       '1.6', '1.1', '1.5', '1.0', '1.2', '1.7'], dtype=object)"
      ]
     },
     "execution_count": 29,
     "metadata": {},
     "output_type": "execute_result"
    }
   ],
   "source": [
    "restaurant_df_updated['rating'].unique()"
   ]
  },
  {
   "attachments": {},
   "cell_type": "markdown",
   "metadata": {},
   "source": [
    "The code below shows how to change the values in the `rating` column to floats. If there are any missing values like `\"--\"`, they will be replaced with `-1`"
   ]
  },
  {
   "cell_type": "code",
   "execution_count": 30,
   "metadata": {},
   "outputs": [],
   "source": [
    "restaurant_df_updated['rating'] = restaurant_df_updated['rating'].replace('--', -1)\n",
    "restaurant_df_updated['rating'] = restaurant_df_updated['rating'].astype(float)"
   ]
  },
  {
   "attachments": {},
   "cell_type": "markdown",
   "metadata": {},
   "source": [
    "Convert `cost` to Integer and Remove Original Column"
   ]
  },
  {
   "cell_type": "code",
   "execution_count": 31,
   "metadata": {},
   "outputs": [],
   "source": [
    "restaurant_df_updated['avg_cost_for_a_meal'] = restaurant_df_updated['cost'].str.replace('₹ ', '').astype(int)\n",
    "restaurant_df_updated = restaurant_df_updated.drop('cost', axis=1)"
   ]
  },
  {
   "cell_type": "code",
   "execution_count": 32,
   "metadata": {},
   "outputs": [
    {
     "name": "stdout",
     "output_type": "stream",
     "text": [
      "['Beverages,Pizzas' 'Sweets,Bakery' 'Beverages' ... 'Biryani,Thai'\n",
      " 'South American,Andhra' 'Barbecue,Italian-American']\n"
     ]
    }
   ],
   "source": [
    "print(restaurant_df_updated['cuisine'].unique())"
   ]
  },
  {
   "attachments": {},
   "cell_type": "markdown",
   "metadata": {},
   "source": [
    "Split the `cuisine` column into two new columns. \n",
    "n=1: Limits the split to the first occurrence of the delimiter, resulting in up to two parts.\n",
    "expand=True: Expands the result into separate columns."
   ]
  },
  {
   "cell_type": "code",
   "execution_count": 33,
   "metadata": {},
   "outputs": [],
   "source": [
    "restaurant_df_updated[['cuisine_1', 'cuisine_2']] = restaurant_df_updated['cuisine'].str.split(',', n=1, expand=True)\n",
    "restaurant_df_updated = restaurant_df_updated.drop('cuisine', axis=1)"
   ]
  },
  {
   "attachments": {},
   "cell_type": "markdown",
   "metadata": {},
   "source": [
    "Check for rows where `cuisine_2` column contains a comma(more than one cusine)"
   ]
  },
  {
   "cell_type": "code",
   "execution_count": 34,
   "metadata": {},
   "outputs": [
    {
     "name": "stdout",
     "output_type": "stream",
     "text": [
      "Rows with commas in 'cuisine_2':\n",
      "Empty DataFrame\n",
      "Columns: [id, name, city, rating, rating_count, avg_cost_for_a_meal, cuisine_1, cuisine_2]\n",
      "Index: []\n"
     ]
    }
   ],
   "source": [
    "rows_with_commas = restaurant_df_updated[restaurant_df_updated['cuisine_2'].str.contains(',', na=False)]\n",
    "print(\"Rows with commas in 'cuisine_2':\")\n",
    "print(rows_with_commas)"
   ]
  },
  {
   "cell_type": "code",
   "execution_count": 35,
   "metadata": {},
   "outputs": [
    {
     "data": {
      "text/plain": [
       "array(['Abohar', 'Adilabad', 'Adityapur', 'Adoni', 'Agartala', 'Agra',\n",
       "       'Vastrapur,Ahmedabad', 'GOTA,Ahmedabad',\n",
       "       'Paldi & Ambawadi,Ahmedabad', 'Ghatlodia,Ahmedabad',\n",
       "       'Bopal,Ahmedabad', 'Gandhinagar,Ahmedabad', 'LalDarwaja,Ahmedabad',\n",
       "       'Naranpura,Ahmedabad', 'Navrangpura,Ahmedabad',\n",
       "       'Science City,Ahmedabad', 'Maninagar,Ahmedabad',\n",
       "       'Chandkheda,Ahmedabad', 'Ahmednagar', 'Aizawl', 'Ajmer', 'Akola',\n",
       "       'Alappuzha', 'Aligarh', 'Alipurduar', 'Allahabad', 'Alwar',\n",
       "       'Ambala', 'Ambikapur', 'Ambur', 'Amravati', 'Amreli', 'Amritsar',\n",
       "       'Anand', 'Anantapur', 'Ankleshwar', 'Arakkonam', 'Arambagh',\n",
       "       'Arrah', 'Aruppukottai', 'Asansol', 'Aurangabad',\n",
       "       'Aurangabad_bihar', 'Azamgarh', 'Baddi', 'Bagalkot', 'Bagdogra',\n",
       "       'Bahadurgarh', 'Bahraich', 'Balaghat', 'Balangir', 'Balasore',\n",
       "       'Ballari', 'Balrampur', 'Balurghat', 'Banda',\n",
       "       'Yeshwanthpur,Bangalore', 'Geddalahalli,Bangalore',\n",
       "       'Koramangala,Bangalore', 'JP Nagar,Bangalore',\n",
       "       'Mahadevpura,Bangalore', 'HSR,Bangalore', 'Arekere,Bangalore',\n",
       "       'Indiranagar,Bangalore', 'Banashankari,Bangalore',\n",
       "       'Whitefield,Bangalore', 'Nagavara & Hennur,Bangalore',\n",
       "       'Kammanahalli/Kalyan Nagar,Bangalore',\n",
       "       'Kumaraswamy Layout & Uttarahalli,Bangalore', 'BTM,Bangalore',\n",
       "       'Battarahalli,Bangalore', 'Basaveshwaranagar,Bangalore',\n",
       "       'Frazer Town,Bangalore', 'Sanjay Nagar, New BEL Road,Bangalore',\n",
       "       'Yelahanka,Bangalore', 'Majestic,Bangalore',\n",
       "       'Kanakapura Road,Bangalore', 'R.T. Nagar,Bangalore',\n",
       "       'Kadugodi,Bangalore', 'Marathahalli,Bangalore',\n",
       "       'Rajarajeshwari Nagar,Bangalore', 'CV Raman Nagar,Bangalore',\n",
       "       'Electronic City,Bangalore', 'Rajajinagar,Bangalore',\n",
       "       'Kadubeesanahalli,Bangalore', 'Shantinagar,Bangalore',\n",
       "       'Jayanagar,Bangalore', 'Central Bangalore,Bangalore', 'Bantwal',\n",
       "       'Bapatlachirala', 'Baramati', 'Baran', 'Bardhaman', 'Bardoli',\n",
       "       'Bareilly', 'Barmer', 'Barnala', 'Barshi', 'Barwani', 'Basirhat',\n",
       "       'Basti', 'Batala', 'Bathinda', 'Beawar', 'Beed', 'Begusarai',\n",
       "       'Bela-pratapgarh', 'Belgaum', 'Berhampore', 'Berhampur', 'Bettiah',\n",
       "       'Betul', 'Bhadohi', 'Bhadrachalam', 'Bhagalpur', 'Bhandara',\n",
       "       'Bharabanki', 'Bharatpur', 'Bharuch', 'Bhatkal', 'Bhavnagar',\n",
       "       'Bhawanipatna', 'Bhilai', 'Bhilwara', 'Bhimavaram', 'Bhind',\n",
       "       'Bhiwadi', 'Bhiwani', 'Bhopal', 'Bhubaneswar', 'Bhuj', 'Bhusawal',\n",
       "       'Bidar', 'Biharsharif', 'Bijapur', 'Bijnor', 'Bikaner', 'Bilaspur',\n",
       "       'Bilimora', 'Bodhan-rural', 'Bodinayakanur', 'Boisar', 'Bokaro',\n",
       "       'Bolpur', 'Bongaigaon', 'Bongaon', 'Budaun', 'Budhwal',\n",
       "       'Bulandshahr', 'Buldana', 'Bundi', 'Burhanpur', 'Buxar',\n",
       "       'Central-goa', 'Chakdaha', 'Chalakkudy', 'Chalisgaon', 'Chandausi',\n",
       "       'Greater Mohali,Chandigarh', 'Zirakpur,Chandigarh',\n",
       "       'East Chd,Chandigarh', 'North Mohali,Chandigarh',\n",
       "       'South Mohali,Chandigarh', 'West Chd,Chandigarh',\n",
       "       'Panchkula,Chandigarh', 'South Chd,Chandigarh', 'Chandrapur',\n",
       "       'Changanassery', 'Chengannur', 'Poonamallee,Chennai',\n",
       "       'OMR Navalur,Chennai', 'Mylapore,Chennai', 'Guindy,Chennai',\n",
       "       'Annanagar,Chennai', 'Chrompet,Chennai', 'Urapakkam,Chennai',\n",
       "       'George Town,Chennai', 'KK Nagar,Chennai', 'OMR Perungudi,Chennai',\n",
       "       'Kilpauk,Chennai', 'Vadapalani,Chennai', 'Perambur,Chennai',\n",
       "       'Royapettah,Chennai', 'Tambaram,Chennai', 'Padur,Chennai',\n",
       "       'Velachery,Chennai', 'Nungambakkam,Chennai', 'Avadi,Chennai',\n",
       "       'Porur,Chennai', 'Ramapuram,Chennai', 'Perumbakkam,Chennai',\n",
       "       'ECR-Kottivakkam,Chennai', 'Egmore,Chennai', 'Arumbakkam,Chennai',\n",
       "       'Madipakkam,Chennai', 'Ambattur,Chennai',\n",
       "       'Mahindra World City,Chennai', 'Alwarpet,Chennai',\n",
       "       'Mogappair,Chennai', 'Iyyapanthangal,Chennai',\n",
       "       'Medavakkam,Chennai', 'Villivakkam,Chennai', 'Karappakam,Chennai',\n",
       "       'Royapuram,Chennai', 'Adyar,Chennai', 'T Nagar,Chennai',\n",
       "       'Purasawalkam,Chennai', 'Cherthala', 'Chhapra', 'Chhatarpur',\n",
       "       'Chhindwara', 'Chidambaram', 'Chikhli', 'Chikkaballapur',\n",
       "       'Chikmagalur', 'Chiplun', 'Chitradurga', 'Chittoor', 'Chittorgarh',\n",
       "       'Chopda', 'Churu', 'Peelamedu,Coimbatore', 'Hopes,Coimbatore',\n",
       "       'Race Course,Coimbatore', 'Sai Baba Colony,Coimbatore',\n",
       "       'Gandhipuram,Coimbatore', 'Saravanampatti,Coimbatore',\n",
       "       'Ramanathapuram,Coimbatore', 'Coi_Ganapathy,Coimbatore',\n",
       "       'Cooch-behar', 'Cuddalore', 'Cuttack', 'Dahanu', 'Dahod', 'Daman',\n",
       "       'Darbhanga', 'Darjeeling', 'Dausa', 'Davanagere',\n",
       "       'Chukkuwala,Dehradun', 'Hathibarkala,Dehradun',\n",
       "       'Race Course Dehradun,Dehradun', 'Jakhan,Dehradun', 'Dehri',\n",
       "       'GTB Nagar,Delhi', 'Jasola,Delhi', 'Greater Noida,Delhi',\n",
       "       'Mayur Vihar,Delhi', 'BBK_MayurVihar,Delhi', 'Laxmi Nagar,Delhi',\n",
       "       'Punjabi Bagh,Delhi', 'Old Delhi,Delhi', 'Khan Market,Delhi',\n",
       "       'Greater Kailash 2,Delhi', 'Ashok Vihar,Delhi',\n",
       "       'Noida Expressway,Delhi', 'South Extension,Delhi',\n",
       "       'Greater Kailash New,Delhi', 'Vasant Kunj,Delhi',\n",
       "       'Uttam Nagar,Delhi', 'Dilshad Gardens,Delhi',\n",
       "       'Connaught Place,Delhi', 'South Campus,Delhi', 'Rohini,Delhi',\n",
       "       'BBK_Chattarpur,Delhi', 'Chattarpur,Delhi', 'Lajpat Nagar,Delhi',\n",
       "       'Kirti Nagar,Delhi', 'Indirapuram,Delhi', 'Dwarka,Delhi',\n",
       "       'Rajouri Garden,Delhi', 'NSP,Delhi', 'Malviya Nagar,Delhi',\n",
       "       'Sector 18,Delhi', 'Deoghar', 'Dewas', 'Dhanbad', 'Dhar',\n",
       "       'Dharamshala', 'Dharmapuri', 'Dharwad', 'Dhoraji', 'Dhule',\n",
       "       'Dibrugarh', 'Dimapur', 'Dindigul', 'Diu', 'Doddaballapura',\n",
       "       'Duliajan', 'Dumka', 'Durgapur', 'Eluru', 'Erode', 'Etawah',\n",
       "       'Faizabad', 'Faridabad', 'Faridkot', 'Farrukhabad', 'Fatehabad',\n",
       "       'Fatehgarh-sahib', 'Fatehpur', 'Fazilka', 'Firozabad', 'Firozpur',\n",
       "       'Gadag-betigeri', 'Gadwal', 'Gandhidham', 'Gangapur-city',\n",
       "       'Gangtok', 'Gauriganj', 'Gaya', 'Giridih', 'Godhra', 'Gokak',\n",
       "       'Golaghat', 'Gonda', 'Gondal', 'Gondia', 'Gopalganj', 'Gorakhpur',\n",
       "       'Gudivada', 'Guna', 'Guntakal', 'Guntur', 'Gurdaspur',\n",
       "       'Greenfields_FBD,Gurgaon', 'Sector-14,Gurgaon',\n",
       "       'Sector 15_FBD,Gurgaon', 'New DLF Phase 4,Gurgaon',\n",
       "       'NIT_FBD,Gurgaon', 'New Sohna Road,Gurgaon',\n",
       "       'Old Gurgaon (Zone 6),Gurgaon', 'sohna road,Gurgaon',\n",
       "       'New Cyber City,Gurgaon', 'Paltan Bazaar,Guwahati',\n",
       "       'Ganeshguri,Guwahati', 'Gwalior', 'Habra', 'Haldia', 'Haldwani',\n",
       "       'Halol', 'Hampi', 'Hansi', 'Hanumangarh', 'Hapur', 'Hardoi',\n",
       "       'Haridwar', 'Hassan', 'Himmatnagar', 'Hindaun', 'Hinganghat',\n",
       "       'Hisar', 'Hoshangabad', 'Hoshiarpur', 'Hospet', 'Hubli',\n",
       "       'Kompally,Hyderabad', 'Himayath Nagar,Hyderabad',\n",
       "       'Jubilee Hills,Hyderabad', 'Kachiguda,Hyderabad',\n",
       "       'Begumpet,Hyderabad', 'Kothapet & Dilsukhnagar,Hyderabad',\n",
       "       'Lingampally & Nalagandla,Hyderabad', 'Balanagar & Idpl,Hyderabad',\n",
       "       'Kondapur,Hyderabad', 'Ameerpet,Hyderabad',\n",
       "       'Abids & Koti,Hyderabad', 'Banjara Hills,Hyderabad',\n",
       "       'Gachibowli,Hyderabad', 'Suncity & Bandlaguda,Hyderabad',\n",
       "       'Vanasthalipuram,Hyderabad', 'Nampally,Hyderabad',\n",
       "       'Miyapur,Hyderabad', 'Manikonda,Hyderabad', 'Madhapur,Hyderabad',\n",
       "       'Mehdipatnam,Hyderabad', 'Kharkhana & Trimulgherry,Hyderabad',\n",
       "       'West Marredpally,Hyderabad',\n",
       "       'Tarnaka, Nacharam & Malkajigiri,Hyderabad',\n",
       "       'Santoshnagar & Saidabad,Hyderabad', 'Alwal,Hyderabad',\n",
       "       'Padmarao Nagar,Hyderabad', 'Kukatpally,Hyderabad',\n",
       "       'Nizampet & Pragathi Nagar,Hyderabad', 'Tolichowki,Hyderabad',\n",
       "       'Nanakramguda,Hyderabad', 'Attapur,Hyderabad', 'Ichalkaranji',\n",
       "       'Imphal', 'Sarafa,Indore', 'Vijay Nagar,Indore',\n",
       "       'South Tukoganj,Indore', 'Bhawar Kuan,Indore',\n",
       "       'Old Palasia,Indore', 'New Palasia,Indore', 'Irinjalakuda',\n",
       "       'Itanagar', 'Itarsi', 'Jabalpur', 'Jagdalpur', 'Jagraon',\n",
       "       'Jagtial', 'Jahanabad', 'Manasarovar,Jaipur', 'Jalaun', 'Jalgaon',\n",
       "       'Jalpaiguri', 'Jammu', 'Jamnagar', 'Jamshedpur', 'Jaunpur',\n",
       "       'Jhalawar', 'Jhansi', 'Jhargram', 'Jhunjhunu', 'Jind', 'Jodhpur',\n",
       "       'Jorhat', 'Junagadh', 'Kadapa', 'Kadayanallur', 'Kadiri',\n",
       "       'Kaithal', 'Kakinada', 'Kalaburagi', 'Kalady', 'Kamareddy',\n",
       "       'Kanchrapara', 'Kannauj', 'Kannur', 'Kanpur', 'Kanyakumari',\n",
       "       'Kapurthala', 'Karad', 'Karaikkudi', 'Karimnagar', 'Karnal',\n",
       "       'Karunagappaly', 'Karur', 'Karwar', 'Kasaragod', 'Kashipur',\n",
       "       'Katihar', 'Katni', 'Kavali', 'Kayamkulam', 'Kendujhar',\n",
       "       'Khamgaon', 'Khammam', 'Khandwa', 'Khanna', 'Kharagpur',\n",
       "       'Kishanganj', 'Kishangarh', 'Vyttila,Kochi', 'Kalamassery,Kochi',\n",
       "       'Aluva,Kochi', 'Panampilly Nagar,Kochi', 'Lulu Mall,Kochi',\n",
       "       'Fort Kochi,Kochi', 'Thrippunithura,Kochi', 'Kodaikanal', 'Kohima',\n",
       "       'Kolar', 'Kolhapur', 'Howrah,Kolkata', 'South Kolkata,Kolkata',\n",
       "       'Rajarhat,Kolkata', 'Burrabazar,Kolkata', 'North Dumdum,Kolkata',\n",
       "       'Chinar Park,Kolkata', 'Kestopur,Kolkata', 'Kidderpore,Kolkata',\n",
       "       'Salt Lake,Kolkata', 'Ruby Area,Kolkata', 'Santoshpur,Kolkata',\n",
       "       'Bally,Kolkata', 'Central Kolkata,Kolkata', 'Garia,Kolkata',\n",
       "       'Tangra,Kolkata', 'Esplanade,Kolkata', 'Kankurgachi,Kolkata',\n",
       "       'Naktala,Kolkata', 'Behala,Kolkata', 'Alipore,Kolkata',\n",
       "       'Lake Town,Kolkata', 'Dumdum,Kolkata', 'Jadavpur,Kolkata',\n",
       "       'Thakurpukur,Kolkata', 'Hatibagan,Kolkata', 'Kollam', 'Kopargaon',\n",
       "       'Koppal', 'Korba', 'Kota', 'Kotdwar', 'Kothagudem',\n",
       "       'Kothamanagalam', 'Kottakkal', 'Kottarakkara', 'Kottayam',\n",
       "       'Kovilpatti', 'Kozhikode', 'Krishnagiri', 'Krishnanagar',\n",
       "       'Kumarakom', 'Kumbakonam', 'Kumta', 'Kundapura', 'Kunnamkullam',\n",
       "       'Kurnool', 'Kurukshetra', 'Lakhimpur', 'Lalitpur', 'Latur',\n",
       "       'Lonavala', 'Lonavla', 'Gomti Nagar,Lucknow', 'Hazratganj,Lucknow',\n",
       "       'Bbd,Lucknow', 'Ashiyana,Lucknow', 'Aminabad,Lucknow',\n",
       "       'Aliganj,Lucknow', 'Alambagh,Lucknow', 'Indira Nagar,Lucknow',\n",
       "       'Civil Lines,Ludhiana', 'BRS Nagar,Ludhiana',\n",
       "       'Model Town,Ludhiana', 'Dugri,Ludhiana', 'Machilipatnam',\n",
       "       'Madanapalle', 'Madhubani', 'Madikeri', 'Madurai', 'Mahbubnagar',\n",
       "       'Malappuram', 'Malda', 'Malegaon', 'Malout', 'Manali',\n",
       "       'Mancherial', 'Mandi-dabwali', 'Mandi-gobindgarh', 'Mandsaur',\n",
       "       'Mandya', 'Mangaluru', 'Manipal', 'Manjeri', 'Mansa', 'Markapur',\n",
       "       'Mathura', 'Maunath-bhanjan', 'Mayiladuthurai', 'Medinipur',\n",
       "       'Meerut', 'Mehsana', 'Miryalaguda', 'Mirzapur', 'Modinagar',\n",
       "       'Moga', 'Moodbidri', 'Moradabad', 'Morbi', 'Morena', 'Motihari',\n",
       "       'Mount-abu', 'Mughalsarai', 'Muktsar', 'Virar,Mumbai',\n",
       "       'Powai,Mumbai', 'Kamothe,Mumbai', 'Mulund,Mumbai',\n",
       "       'Mahalaxmi Malabar Hill,Mumbai', 'Vashi,Mumbai',\n",
       "       'Bandra West,Mumbai', 'Scruz Bandra East,Mumbai',\n",
       "       'Fort Colaba,Mumbai', 'Bhayandar,Mumbai', 'Mahim Dadar,Mumbai',\n",
       "       'Starbucks_BKC,Mumbai', 'Vasai,Mumbai', 'Matunga Wadala,Mumbai',\n",
       "       'Airoli,Mumbai', 'Munger', 'Murshidabad', 'Mussoorie',\n",
       "       'Muvattupuzha', 'Muzaffarnagar', 'Muzaffarpur',\n",
       "       'Mysore North,Mysore', 'Mysore South,Mysore', 'Nabadwip', 'Nadiad',\n",
       "       'Nagaon', 'Nagapattinam', 'Nagda', 'Nagercoil',\n",
       "       'Dharampeth,Nagpur', 'Nandanvan,Nagpur', 'Sitabuldi,Nagpur',\n",
       "       'Gandhibagh,Nagpur', 'Bajaj Nagar,Nagpur', 'Manish Nagar,Nagpur',\n",
       "       'Sadar,Nagpur', 'Wardha Road,Nagpur', 'Naharlagun', 'Nainital',\n",
       "       'Nalgonda', 'Namakkal', 'Nanded', 'Nandurbar', 'Nandyal', 'Nangal',\n",
       "       'Naraingarh', 'Narasaraopet', 'Narnaul', 'Narsinghpur', 'Navsari',\n",
       "       'Neemuch', 'Nellore', 'Neyveli', 'Nipani', 'Nirmal', 'Nizamabad',\n",
       "       'Raj Nagar,Noida', 'Noida-1', 'North-goa', 'Ongole', 'Ooty',\n",
       "       'Orai', 'Osmanabad', 'Pala', 'Palakkad', 'Palampur', 'Palani',\n",
       "       'Palanpur', 'Pali', 'Panipat', 'Parbhani', 'Pathankot', 'Patiala',\n",
       "       'Patna', 'Perinthalmanna', 'Phagwara', 'Pilibhit', 'Pondicherry',\n",
       "       'Porbandar', 'Proddatur', 'Pudukkottai', 'Wanowrie,Pune',\n",
       "       'Koregaon Park,Pune', 'Hadapsar,Pune', 'Warje,Pune',\n",
       "       'Pimple Saudagar,Pune', 'Kothrud,Pune', 'Vishrantwadi,Pune',\n",
       "       'Sangvi,Pune', 'Bibwewadi,Pune', 'Wakad,Pune', 'Kondhwa,Pune',\n",
       "       'Swargate,Pune', 'Nigdi,Pune', 'Bavdhan,Pune', 'Bhosari,Pune',\n",
       "       'Sinhgad Road,Pune', 'Wagholi,Pune', 'Narhe,Pune',\n",
       "       'Hinjewadi,Pune', 'Bopodi,Pune', 'PCMC,Pune', 'Dhankawadi,Pune',\n",
       "       'Viman Nagar,Pune', 'Aundh,Pune', 'Kalyani Nagar,Pune',\n",
       "       'Kharadi,Pune', 'Shivaji Nagar,Pune', 'Hinjewadi Phase-3,Pune',\n",
       "       'Baner,Pune', 'Magarpatta,Pune', 'Puri', 'Purnea', 'Purulia',\n",
       "       'Pusad', 'Puttur', 'Rae-bareli', 'Raghunathpur', 'Raichur',\n",
       "       'Raiganj', 'Raigarh', 'Raipur', 'Rajahmundry', 'Rajapalayam',\n",
       "       'Rajkot', 'Rajnandgaon', 'Rajsamand', 'Ramagundam', 'Ramanagara',\n",
       "       'Ramanathapuram', 'Rampur', 'Ranaghat-wb', 'Ranchi', 'Rangpo',\n",
       "       'Ranibennur', 'Raniganj', 'Ratlam', 'Ratnagiri', 'Rayachoty',\n",
       "       'Rewa', 'Rewari', 'Rishikesh', 'Rohtak', 'Roorkee', 'Ropar',\n",
       "       'Rourkela', 'Rudrapur', 'Sagar', 'Saharanpur', 'Saharsa', 'Salem',\n",
       "       'Samastipur', 'Sambalpur', 'Sangamner', 'Sangli', 'Sangrur',\n",
       "       'Sasaram', 'Satara', 'Satna', 'Sawai-madhopur', 'Sehore',\n",
       "       'Shahjahanpur', 'Shikohabad', 'Shillong', 'Shimla', 'Shivamogga',\n",
       "       'Shivpuri', 'Shrirampur', 'Siddipet', 'Sikar', 'Silchar',\n",
       "       'Siliguri', 'Silvassa', 'Sindhanur', 'Singrauli', 'Sirsa', 'Sirsi',\n",
       "       'Sitapur', 'Sivakasi', 'Sivasagar', 'Siwan', 'Solan', 'Solapur',\n",
       "       'Sonipat', 'South-goa', 'Sri-ganganagar', 'Srikakulam',\n",
       "       'Srivilliputhur', 'Sultanpur', 'Athwa,Surat', 'Adajan,Surat',\n",
       "       'Piplod,Surat', 'Suratgarh', 'Surendranagar-dudhrej', 'Suryapet',\n",
       "       'Tadepalligudem', 'Tadpatri', 'Tanuku', 'Tarn-taran-sahib',\n",
       "       'Tenkasi', 'Tezpur', 'Thalassery', 'Thanjavur', 'Theni',\n",
       "       'Thiruvalla', 'Thiruvallur', 'Thiruvananthapuram', 'Thiruvarur',\n",
       "       'Thodupuzha', 'Thoothukudi', 'Thrissur', 'Tinsukia', 'Tiptur',\n",
       "       'Tirunelveli', 'Tirupati', 'Tirupur', 'Tiruvannamalai', 'Tohana',\n",
       "       'Trichy', 'Tumakuru', 'Tuni', 'Udaipur', 'Udgir', 'Ujjain',\n",
       "       'Uluberia', 'Uran-islampur', 'Akota,Vadodara', 'Alkapuri,Vadodara',\n",
       "       'Vadiwadi,Vadodara', 'Valsad', 'Vapi', 'Varanasi', 'Varkala',\n",
       "       'Vellore', 'Veraval', 'Vidisha',\n",
       "       'Benz Circle and Auto Nagar,Vijayawada', 'Governorpet,Vijayawada',\n",
       "       'Virudhunagar', 'Visnagar', 'N A D,Vizag', 'Gajuwaka,Vizag',\n",
       "       'Jagadamba Junction,Vizag', 'MVP Colony,Vizag',\n",
       "       'Dwarka Nagar,Vizag', 'Vizianagaram', 'Vyara', 'Waidhan',\n",
       "       'Warangal', 'Wardha', 'Washim', 'Yamuna-nagar', 'Yavatmal'],\n",
       "      dtype=object)"
      ]
     },
     "execution_count": 35,
     "metadata": {},
     "output_type": "execute_result"
    }
   ],
   "source": [
    "restaurant_df_updated['city'].unique()"
   ]
  },
  {
   "cell_type": "code",
   "execution_count": 36,
   "metadata": {},
   "outputs": [
    {
     "data": {
      "text/html": [
       "<div>\n",
       "<style scoped>\n",
       "    .dataframe tbody tr th:only-of-type {\n",
       "        vertical-align: middle;\n",
       "    }\n",
       "\n",
       "    .dataframe tbody tr th {\n",
       "        vertical-align: top;\n",
       "    }\n",
       "\n",
       "    .dataframe thead th {\n",
       "        text-align: right;\n",
       "    }\n",
       "</style>\n",
       "<table border=\"1\" class=\"dataframe\">\n",
       "  <thead>\n",
       "    <tr style=\"text-align: right;\">\n",
       "      <th></th>\n",
       "      <th>id</th>\n",
       "      <th>name</th>\n",
       "      <th>city</th>\n",
       "      <th>rating</th>\n",
       "      <th>rating_count</th>\n",
       "      <th>avg_cost_for_a_meal</th>\n",
       "      <th>cuisine_1</th>\n",
       "      <th>cuisine_2</th>\n",
       "    </tr>\n",
       "  </thead>\n",
       "  <tbody>\n",
       "    <tr>\n",
       "      <th>0</th>\n",
       "      <td>567335</td>\n",
       "      <td>AB FOODS POINT</td>\n",
       "      <td>Abohar</td>\n",
       "      <td>-1.0</td>\n",
       "      <td>Too Few Ratings</td>\n",
       "      <td>200</td>\n",
       "      <td>Beverages</td>\n",
       "      <td>Pizzas</td>\n",
       "    </tr>\n",
       "    <tr>\n",
       "      <th>1</th>\n",
       "      <td>531342</td>\n",
       "      <td>Janta Sweet House</td>\n",
       "      <td>Abohar</td>\n",
       "      <td>4.4</td>\n",
       "      <td>50+ ratings</td>\n",
       "      <td>200</td>\n",
       "      <td>Sweets</td>\n",
       "      <td>Bakery</td>\n",
       "    </tr>\n",
       "    <tr>\n",
       "      <th>2</th>\n",
       "      <td>158203</td>\n",
       "      <td>theka coffee desi</td>\n",
       "      <td>Abohar</td>\n",
       "      <td>3.8</td>\n",
       "      <td>100+ ratings</td>\n",
       "      <td>100</td>\n",
       "      <td>Beverages</td>\n",
       "      <td>None</td>\n",
       "    </tr>\n",
       "    <tr>\n",
       "      <th>3</th>\n",
       "      <td>187912</td>\n",
       "      <td>Singh Hut</td>\n",
       "      <td>Abohar</td>\n",
       "      <td>3.7</td>\n",
       "      <td>20+ ratings</td>\n",
       "      <td>250</td>\n",
       "      <td>Fast Food</td>\n",
       "      <td>Indian</td>\n",
       "    </tr>\n",
       "    <tr>\n",
       "      <th>4</th>\n",
       "      <td>543530</td>\n",
       "      <td>GRILL MASTERS</td>\n",
       "      <td>Abohar</td>\n",
       "      <td>-1.0</td>\n",
       "      <td>Too Few Ratings</td>\n",
       "      <td>250</td>\n",
       "      <td>Italian-American</td>\n",
       "      <td>Fast Food</td>\n",
       "    </tr>\n",
       "  </tbody>\n",
       "</table>\n",
       "</div>"
      ],
      "text/plain": [
       "       id               name    city  rating     rating_count  \\\n",
       "0  567335     AB FOODS POINT  Abohar    -1.0  Too Few Ratings   \n",
       "1  531342  Janta Sweet House  Abohar     4.4      50+ ratings   \n",
       "2  158203  theka coffee desi  Abohar     3.8     100+ ratings   \n",
       "3  187912          Singh Hut  Abohar     3.7      20+ ratings   \n",
       "4  543530      GRILL MASTERS  Abohar    -1.0  Too Few Ratings   \n",
       "\n",
       "   avg_cost_for_a_meal         cuisine_1  cuisine_2  \n",
       "0                  200         Beverages     Pizzas  \n",
       "1                  200            Sweets     Bakery  \n",
       "2                  100         Beverages       None  \n",
       "3                  250         Fast Food     Indian  \n",
       "4                  250  Italian-American  Fast Food  "
      ]
     },
     "execution_count": 36,
     "metadata": {},
     "output_type": "execute_result"
    }
   ],
   "source": [
    "restaurant_df_updated.head()"
   ]
  },
  {
   "cell_type": "code",
   "execution_count": 37,
   "metadata": {},
   "outputs": [
    {
     "data": {
      "text/plain": [
       "city\n",
       "Bikaner                 1666\n",
       "Noida-1                 1427\n",
       "Indirapuram,Delhi       1279\n",
       "BTM,Bangalore           1161\n",
       "Rohini,Delhi            1135\n",
       "                        ... \n",
       "Alwarpet,Chennai           1\n",
       "Naharlagun                 1\n",
       "Mahim Dadar,Mumbai         1\n",
       "Starbucks_BKC,Mumbai       1\n",
       "Rangpo                     1\n",
       "Name: count, Length: 821, dtype: int64"
      ]
     },
     "execution_count": 37,
     "metadata": {},
     "output_type": "execute_result"
    }
   ],
   "source": [
    "city =  restaurant_df_updated['city'].value_counts(ascending=False)\n",
    "city"
   ]
  },
  {
   "cell_type": "code",
   "execution_count": 38,
   "metadata": {},
   "outputs": [
    {
     "data": {
      "text/plain": [
       "city\n",
       "Bikaner              1666\n",
       "Noida-1              1427\n",
       "Indirapuram,Delhi    1279\n",
       "BTM,Bangalore        1161\n",
       "Rohini,Delhi         1135\n",
       "                     ... \n",
       "Gadwal                 11\n",
       "Lulu Mall,Kochi        11\n",
       "Kothagudem             10\n",
       "Mussoorie              10\n",
       "Barwani                10\n",
       "Name: count, Length: 775, dtype: int64"
      ]
     },
     "execution_count": 38,
     "metadata": {},
     "output_type": "execute_result"
    }
   ],
   "source": [
    "city_less_than_10 = city[city<10]\n",
    "def handle_city(value):\n",
    "    if(value in city_less_than_10):\n",
    "        return 'others'\n",
    "    else:\n",
    "        return value\n",
    "    \n",
    "restaurant_df_updated['city'] = restaurant_df_updated['city'].apply(handle_city)\n",
    "restaurant_df_updated['city'].value_counts()"
   ]
  },
  {
   "cell_type": "code",
   "execution_count": 39,
   "metadata": {},
   "outputs": [
    {
     "data": {
      "text/html": [
       "<div>\n",
       "<style scoped>\n",
       "    .dataframe tbody tr th:only-of-type {\n",
       "        vertical-align: middle;\n",
       "    }\n",
       "\n",
       "    .dataframe tbody tr th {\n",
       "        vertical-align: top;\n",
       "    }\n",
       "\n",
       "    .dataframe thead th {\n",
       "        text-align: right;\n",
       "    }\n",
       "</style>\n",
       "<table border=\"1\" class=\"dataframe\">\n",
       "  <thead>\n",
       "    <tr style=\"text-align: right;\">\n",
       "      <th></th>\n",
       "      <th>id</th>\n",
       "      <th>name</th>\n",
       "      <th>city</th>\n",
       "      <th>rating</th>\n",
       "      <th>rating_count</th>\n",
       "      <th>avg_cost_for_a_meal</th>\n",
       "      <th>cuisine_1</th>\n",
       "      <th>cuisine_2</th>\n",
       "    </tr>\n",
       "  </thead>\n",
       "  <tbody>\n",
       "    <tr>\n",
       "      <th>0</th>\n",
       "      <td>567335</td>\n",
       "      <td>AB FOODS POINT</td>\n",
       "      <td>Abohar</td>\n",
       "      <td>-1.0</td>\n",
       "      <td>Too Few Ratings</td>\n",
       "      <td>200</td>\n",
       "      <td>Beverages</td>\n",
       "      <td>Pizzas</td>\n",
       "    </tr>\n",
       "    <tr>\n",
       "      <th>1</th>\n",
       "      <td>531342</td>\n",
       "      <td>Janta Sweet House</td>\n",
       "      <td>Abohar</td>\n",
       "      <td>4.4</td>\n",
       "      <td>50+ ratings</td>\n",
       "      <td>200</td>\n",
       "      <td>Sweets</td>\n",
       "      <td>Bakery</td>\n",
       "    </tr>\n",
       "    <tr>\n",
       "      <th>2</th>\n",
       "      <td>158203</td>\n",
       "      <td>theka coffee desi</td>\n",
       "      <td>Abohar</td>\n",
       "      <td>3.8</td>\n",
       "      <td>100+ ratings</td>\n",
       "      <td>100</td>\n",
       "      <td>Beverages</td>\n",
       "      <td>None</td>\n",
       "    </tr>\n",
       "    <tr>\n",
       "      <th>3</th>\n",
       "      <td>187912</td>\n",
       "      <td>Singh Hut</td>\n",
       "      <td>Abohar</td>\n",
       "      <td>3.7</td>\n",
       "      <td>20+ ratings</td>\n",
       "      <td>250</td>\n",
       "      <td>Fast Food</td>\n",
       "      <td>Indian</td>\n",
       "    </tr>\n",
       "    <tr>\n",
       "      <th>4</th>\n",
       "      <td>543530</td>\n",
       "      <td>GRILL MASTERS</td>\n",
       "      <td>Abohar</td>\n",
       "      <td>-1.0</td>\n",
       "      <td>Too Few Ratings</td>\n",
       "      <td>250</td>\n",
       "      <td>Italian-American</td>\n",
       "      <td>Fast Food</td>\n",
       "    </tr>\n",
       "  </tbody>\n",
       "</table>\n",
       "</div>"
      ],
      "text/plain": [
       "       id               name    city  rating     rating_count  \\\n",
       "0  567335     AB FOODS POINT  Abohar    -1.0  Too Few Ratings   \n",
       "1  531342  Janta Sweet House  Abohar     4.4      50+ ratings   \n",
       "2  158203  theka coffee desi  Abohar     3.8     100+ ratings   \n",
       "3  187912          Singh Hut  Abohar     3.7      20+ ratings   \n",
       "4  543530      GRILL MASTERS  Abohar    -1.0  Too Few Ratings   \n",
       "\n",
       "   avg_cost_for_a_meal         cuisine_1  cuisine_2  \n",
       "0                  200         Beverages     Pizzas  \n",
       "1                  200            Sweets     Bakery  \n",
       "2                  100         Beverages       None  \n",
       "3                  250         Fast Food     Indian  \n",
       "4                  250  Italian-American  Fast Food  "
      ]
     },
     "execution_count": 39,
     "metadata": {},
     "output_type": "execute_result"
    }
   ],
   "source": [
    "restaurant_df_updated.head()"
   ]
  },
  {
   "cell_type": "code",
   "execution_count": 40,
   "metadata": {},
   "outputs": [],
   "source": [
    "restaurant_df_updated.to_csv('cleaned_restaurant_df.csv', index=False)"
   ]
  },
  {
   "cell_type": "code",
   "execution_count": 41,
   "metadata": {},
   "outputs": [
    {
     "data": {
      "text/plain": [
       "Unnamed: 0    0\n",
       "menu_id       0\n",
       "r_id          0\n",
       "f_id          0\n",
       "cuisine       0\n",
       "price         0\n",
       "dtype: int64"
      ]
     },
     "execution_count": 41,
     "metadata": {},
     "output_type": "execute_result"
    }
   ],
   "source": [
    "menu_df.isnull().sum()"
   ]
  },
  {
   "cell_type": "code",
   "execution_count": 42,
   "metadata": {},
   "outputs": [
    {
     "name": "stdout",
     "output_type": "stream",
     "text": [
      "<class 'pandas.core.frame.DataFrame'>\n",
      "RangeIndex: 1179936 entries, 0 to 1179935\n",
      "Data columns (total 6 columns):\n",
      " #   Column      Non-Null Count    Dtype \n",
      "---  ------      --------------    ----- \n",
      " 0   Unnamed: 0  1179936 non-null  int64 \n",
      " 1   menu_id     1179936 non-null  object\n",
      " 2   r_id        1179936 non-null  int64 \n",
      " 3   f_id        1179936 non-null  object\n",
      " 4   cuisine     1179936 non-null  object\n",
      " 5   price       1179936 non-null  object\n",
      "dtypes: int64(2), object(4)\n",
      "memory usage: 54.0+ MB\n"
     ]
    }
   ],
   "source": [
    "menu_df.info()"
   ]
  },
  {
   "cell_type": "code",
   "execution_count": 113,
   "metadata": {},
   "outputs": [],
   "source": [
    "#menu_df_updated = menu_df.drop(['Unnamed: 0'], axis=1)\n",
    "menu_df_updated = menu_df.rename(columns={'Unnamed: 0': 'id'})\n"
   ]
  },
  {
   "cell_type": "code",
   "execution_count": 114,
   "metadata": {},
   "outputs": [
    {
     "data": {
      "text/html": [
       "<div>\n",
       "<style scoped>\n",
       "    .dataframe tbody tr th:only-of-type {\n",
       "        vertical-align: middle;\n",
       "    }\n",
       "\n",
       "    .dataframe tbody tr th {\n",
       "        vertical-align: top;\n",
       "    }\n",
       "\n",
       "    .dataframe thead th {\n",
       "        text-align: right;\n",
       "    }\n",
       "</style>\n",
       "<table border=\"1\" class=\"dataframe\">\n",
       "  <thead>\n",
       "    <tr style=\"text-align: right;\">\n",
       "      <th></th>\n",
       "      <th>id</th>\n",
       "      <th>menu_id</th>\n",
       "      <th>r_id</th>\n",
       "      <th>f_id</th>\n",
       "      <th>cuisine</th>\n",
       "      <th>price</th>\n",
       "    </tr>\n",
       "  </thead>\n",
       "  <tbody>\n",
       "    <tr>\n",
       "      <th>0</th>\n",
       "      <td>0</td>\n",
       "      <td>mn0</td>\n",
       "      <td>567335</td>\n",
       "      <td>fd0</td>\n",
       "      <td>Beverages,Pizzas</td>\n",
       "      <td>40.0</td>\n",
       "    </tr>\n",
       "    <tr>\n",
       "      <th>1</th>\n",
       "      <td>1</td>\n",
       "      <td>mn0</td>\n",
       "      <td>567335</td>\n",
       "      <td>fd669322</td>\n",
       "      <td>Beverages,Pizzas</td>\n",
       "      <td>40.0</td>\n",
       "    </tr>\n",
       "    <tr>\n",
       "      <th>2</th>\n",
       "      <td>2</td>\n",
       "      <td>mn328</td>\n",
       "      <td>158203</td>\n",
       "      <td>fd0</td>\n",
       "      <td>Beverages</td>\n",
       "      <td>65.0</td>\n",
       "    </tr>\n",
       "    <tr>\n",
       "      <th>3</th>\n",
       "      <td>3</td>\n",
       "      <td>mn328</td>\n",
       "      <td>158203</td>\n",
       "      <td>fd669322</td>\n",
       "      <td>Beverages</td>\n",
       "      <td>65.0</td>\n",
       "    </tr>\n",
       "    <tr>\n",
       "      <th>4</th>\n",
       "      <td>4</td>\n",
       "      <td>mn449</td>\n",
       "      <td>158203</td>\n",
       "      <td>fd0</td>\n",
       "      <td>Beverages</td>\n",
       "      <td>65.0</td>\n",
       "    </tr>\n",
       "  </tbody>\n",
       "</table>\n",
       "</div>"
      ],
      "text/plain": [
       "   id menu_id    r_id      f_id           cuisine price\n",
       "0   0     mn0  567335       fd0  Beverages,Pizzas  40.0\n",
       "1   1     mn0  567335  fd669322  Beverages,Pizzas  40.0\n",
       "2   2   mn328  158203       fd0         Beverages  65.0\n",
       "3   3   mn328  158203  fd669322         Beverages  65.0\n",
       "4   4   mn449  158203       fd0         Beverages  65.0"
      ]
     },
     "execution_count": 114,
     "metadata": {},
     "output_type": "execute_result"
    }
   ],
   "source": [
    "menu_df_updated.head()\n"
   ]
  },
  {
   "cell_type": "code",
   "execution_count": 116,
   "metadata": {},
   "outputs": [
    {
     "data": {
      "text/plain": [
       "Index(['id', 'menu_id', 'r_id', 'f_id', 'cuisine', 'price'], dtype='object')"
      ]
     },
     "execution_count": 116,
     "metadata": {},
     "output_type": "execute_result"
    }
   ],
   "source": [
    "menu_df_updated.columns"
   ]
  },
  {
   "cell_type": "code",
   "execution_count": 117,
   "metadata": {},
   "outputs": [],
   "source": [
    "menu_df_updated[['cuisine_1', 'cuisine_2']] = menu_df_updated['cuisine'].str.split(',', n=1, expand=True)\n",
    "menu_df_updated = menu_df_updated.drop('cuisine', axis=1)"
   ]
  },
  {
   "cell_type": "code",
   "execution_count": 118,
   "metadata": {},
   "outputs": [
    {
     "data": {
      "text/html": [
       "<div>\n",
       "<style scoped>\n",
       "    .dataframe tbody tr th:only-of-type {\n",
       "        vertical-align: middle;\n",
       "    }\n",
       "\n",
       "    .dataframe tbody tr th {\n",
       "        vertical-align: top;\n",
       "    }\n",
       "\n",
       "    .dataframe thead th {\n",
       "        text-align: right;\n",
       "    }\n",
       "</style>\n",
       "<table border=\"1\" class=\"dataframe\">\n",
       "  <thead>\n",
       "    <tr style=\"text-align: right;\">\n",
       "      <th></th>\n",
       "      <th>id</th>\n",
       "      <th>menu_id</th>\n",
       "      <th>r_id</th>\n",
       "      <th>f_id</th>\n",
       "      <th>price</th>\n",
       "      <th>cuisine_1</th>\n",
       "      <th>cuisine_2</th>\n",
       "    </tr>\n",
       "  </thead>\n",
       "  <tbody>\n",
       "    <tr>\n",
       "      <th>0</th>\n",
       "      <td>0</td>\n",
       "      <td>mn0</td>\n",
       "      <td>567335</td>\n",
       "      <td>fd0</td>\n",
       "      <td>40.0</td>\n",
       "      <td>Beverages</td>\n",
       "      <td>Pizzas</td>\n",
       "    </tr>\n",
       "    <tr>\n",
       "      <th>1</th>\n",
       "      <td>1</td>\n",
       "      <td>mn0</td>\n",
       "      <td>567335</td>\n",
       "      <td>fd669322</td>\n",
       "      <td>40.0</td>\n",
       "      <td>Beverages</td>\n",
       "      <td>Pizzas</td>\n",
       "    </tr>\n",
       "    <tr>\n",
       "      <th>2</th>\n",
       "      <td>2</td>\n",
       "      <td>mn328</td>\n",
       "      <td>158203</td>\n",
       "      <td>fd0</td>\n",
       "      <td>65.0</td>\n",
       "      <td>Beverages</td>\n",
       "      <td>None</td>\n",
       "    </tr>\n",
       "    <tr>\n",
       "      <th>3</th>\n",
       "      <td>3</td>\n",
       "      <td>mn328</td>\n",
       "      <td>158203</td>\n",
       "      <td>fd669322</td>\n",
       "      <td>65.0</td>\n",
       "      <td>Beverages</td>\n",
       "      <td>None</td>\n",
       "    </tr>\n",
       "    <tr>\n",
       "      <th>4</th>\n",
       "      <td>4</td>\n",
       "      <td>mn449</td>\n",
       "      <td>158203</td>\n",
       "      <td>fd0</td>\n",
       "      <td>65.0</td>\n",
       "      <td>Beverages</td>\n",
       "      <td>None</td>\n",
       "    </tr>\n",
       "  </tbody>\n",
       "</table>\n",
       "</div>"
      ],
      "text/plain": [
       "   id menu_id    r_id      f_id price  cuisine_1 cuisine_2\n",
       "0   0     mn0  567335       fd0  40.0  Beverages    Pizzas\n",
       "1   1     mn0  567335  fd669322  40.0  Beverages    Pizzas\n",
       "2   2   mn328  158203       fd0  65.0  Beverages      None\n",
       "3   3   mn328  158203  fd669322  65.0  Beverages      None\n",
       "4   4   mn449  158203       fd0  65.0  Beverages      None"
      ]
     },
     "execution_count": 118,
     "metadata": {},
     "output_type": "execute_result"
    }
   ],
   "source": [
    "menu_df_updated.head()"
   ]
  },
  {
   "cell_type": "code",
   "execution_count": 119,
   "metadata": {},
   "outputs": [
    {
     "data": {
      "text/plain": [
       "id                0\n",
       "menu_id           0\n",
       "r_id              0\n",
       "f_id              0\n",
       "price             0\n",
       "cuisine_1         0\n",
       "cuisine_2    241123\n",
       "dtype: int64"
      ]
     },
     "execution_count": 119,
     "metadata": {},
     "output_type": "execute_result"
    }
   ],
   "source": [
    "menu_df_updated.isnull().sum()"
   ]
  },
  {
   "cell_type": "code",
   "execution_count": 120,
   "metadata": {},
   "outputs": [
    {
     "data": {
      "text/html": [
       "<div>\n",
       "<style scoped>\n",
       "    .dataframe tbody tr th:only-of-type {\n",
       "        vertical-align: middle;\n",
       "    }\n",
       "\n",
       "    .dataframe tbody tr th {\n",
       "        vertical-align: top;\n",
       "    }\n",
       "\n",
       "    .dataframe thead th {\n",
       "        text-align: right;\n",
       "    }\n",
       "</style>\n",
       "<table border=\"1\" class=\"dataframe\">\n",
       "  <thead>\n",
       "    <tr style=\"text-align: right;\">\n",
       "      <th></th>\n",
       "      <th>id</th>\n",
       "      <th>menu_id</th>\n",
       "      <th>r_id</th>\n",
       "      <th>f_id</th>\n",
       "      <th>price</th>\n",
       "      <th>cuisine_1</th>\n",
       "      <th>cuisine_2</th>\n",
       "    </tr>\n",
       "  </thead>\n",
       "  <tbody>\n",
       "    <tr>\n",
       "      <th>0</th>\n",
       "      <td>0</td>\n",
       "      <td>mn0</td>\n",
       "      <td>567335</td>\n",
       "      <td>fd0</td>\n",
       "      <td>40.0</td>\n",
       "      <td>Beverages</td>\n",
       "      <td>Pizzas</td>\n",
       "    </tr>\n",
       "    <tr>\n",
       "      <th>1</th>\n",
       "      <td>1</td>\n",
       "      <td>mn0</td>\n",
       "      <td>567335</td>\n",
       "      <td>fd669322</td>\n",
       "      <td>40.0</td>\n",
       "      <td>Beverages</td>\n",
       "      <td>Pizzas</td>\n",
       "    </tr>\n",
       "    <tr>\n",
       "      <th>2</th>\n",
       "      <td>2</td>\n",
       "      <td>mn328</td>\n",
       "      <td>158203</td>\n",
       "      <td>fd0</td>\n",
       "      <td>65.0</td>\n",
       "      <td>Beverages</td>\n",
       "      <td>None</td>\n",
       "    </tr>\n",
       "    <tr>\n",
       "      <th>3</th>\n",
       "      <td>3</td>\n",
       "      <td>mn328</td>\n",
       "      <td>158203</td>\n",
       "      <td>fd669322</td>\n",
       "      <td>65.0</td>\n",
       "      <td>Beverages</td>\n",
       "      <td>None</td>\n",
       "    </tr>\n",
       "    <tr>\n",
       "      <th>4</th>\n",
       "      <td>4</td>\n",
       "      <td>mn449</td>\n",
       "      <td>158203</td>\n",
       "      <td>fd0</td>\n",
       "      <td>65.0</td>\n",
       "      <td>Beverages</td>\n",
       "      <td>None</td>\n",
       "    </tr>\n",
       "    <tr>\n",
       "      <th>...</th>\n",
       "      <td>...</td>\n",
       "      <td>...</td>\n",
       "      <td>...</td>\n",
       "      <td>...</td>\n",
       "      <td>...</td>\n",
       "      <td>...</td>\n",
       "      <td>...</td>\n",
       "    </tr>\n",
       "    <tr>\n",
       "      <th>1179931</th>\n",
       "      <td>1179931</td>\n",
       "      <td>mn1048555</td>\n",
       "      <td>96525</td>\n",
       "      <td>fd1048555</td>\n",
       "      <td>300.0</td>\n",
       "      <td>Ice Cream</td>\n",
       "      <td>Desserts</td>\n",
       "    </tr>\n",
       "    <tr>\n",
       "      <th>1179932</th>\n",
       "      <td>1179932</td>\n",
       "      <td>mn1048556</td>\n",
       "      <td>96525</td>\n",
       "      <td>fd1048556</td>\n",
       "      <td>300.0</td>\n",
       "      <td>Ice Cream</td>\n",
       "      <td>Desserts</td>\n",
       "    </tr>\n",
       "    <tr>\n",
       "      <th>1179933</th>\n",
       "      <td>1179933</td>\n",
       "      <td>mn1048558</td>\n",
       "      <td>96525</td>\n",
       "      <td>fd1048558</td>\n",
       "      <td>350.0</td>\n",
       "      <td>Ice Cream</td>\n",
       "      <td>Desserts</td>\n",
       "    </tr>\n",
       "    <tr>\n",
       "      <th>1179934</th>\n",
       "      <td>1179934</td>\n",
       "      <td>mn1048561</td>\n",
       "      <td>96525</td>\n",
       "      <td>fd1048561</td>\n",
       "      <td>200.0</td>\n",
       "      <td>Ice Cream</td>\n",
       "      <td>Desserts</td>\n",
       "    </tr>\n",
       "    <tr>\n",
       "      <th>1179935</th>\n",
       "      <td>1179935</td>\n",
       "      <td>mn1048562</td>\n",
       "      <td>96525</td>\n",
       "      <td>fd1048562</td>\n",
       "      <td>270.0</td>\n",
       "      <td>Ice Cream</td>\n",
       "      <td>Desserts</td>\n",
       "    </tr>\n",
       "  </tbody>\n",
       "</table>\n",
       "<p>1178743 rows × 7 columns</p>\n",
       "</div>"
      ],
      "text/plain": [
       "              id    menu_id    r_id       f_id  price  cuisine_1 cuisine_2\n",
       "0              0        mn0  567335        fd0   40.0  Beverages    Pizzas\n",
       "1              1        mn0  567335   fd669322   40.0  Beverages    Pizzas\n",
       "2              2      mn328  158203        fd0   65.0  Beverages      None\n",
       "3              3      mn328  158203   fd669322   65.0  Beverages      None\n",
       "4              4      mn449  158203        fd0   65.0  Beverages      None\n",
       "...          ...        ...     ...        ...    ...        ...       ...\n",
       "1179931  1179931  mn1048555   96525  fd1048555  300.0  Ice Cream  Desserts\n",
       "1179932  1179932  mn1048556   96525  fd1048556  300.0  Ice Cream  Desserts\n",
       "1179933  1179933  mn1048558   96525  fd1048558  350.0  Ice Cream  Desserts\n",
       "1179934  1179934  mn1048561   96525  fd1048561  200.0  Ice Cream  Desserts\n",
       "1179935  1179935  mn1048562   96525  fd1048562  270.0  Ice Cream  Desserts\n",
       "\n",
       "[1178743 rows x 7 columns]"
      ]
     },
     "execution_count": 120,
     "metadata": {},
     "output_type": "execute_result"
    }
   ],
   "source": [
    "# Convert to numeric, forcing errors to NaN\n",
    "menu_df_updated['price_numeric'] = pd.to_numeric(menu_df_updated['price'], errors='coerce')\n",
    "\n",
    "# Identify rows where conversion resulted in NaN\n",
    "non_convertible = menu_df_updated[menu_df_updated['price_numeric'].isna()]\n",
    "\n",
    "# Remove rows with NaN values in 'price_numeric'\n",
    "menu_df_cleaned = menu_df_updated.dropna(subset=['price_numeric'])\n",
    "\n",
    "# Drop the temporary 'price_numeric' column if no longer needed\n",
    "menu_df_cleaned = menu_df_cleaned.drop(columns=['price_numeric'])\n",
    "menu_df_cleaned\n"
   ]
  },
  {
   "cell_type": "code",
   "execution_count": 121,
   "metadata": {},
   "outputs": [
    {
     "name": "stdout",
     "output_type": "stream",
     "text": [
      "<class 'pandas.core.frame.DataFrame'>\n",
      "Index: 1178743 entries, 0 to 1179935\n",
      "Data columns (total 7 columns):\n",
      " #   Column     Non-Null Count    Dtype \n",
      "---  ------     --------------    ----- \n",
      " 0   id         1178743 non-null  int64 \n",
      " 1   menu_id    1178743 non-null  object\n",
      " 2   r_id       1178743 non-null  int64 \n",
      " 3   f_id       1178743 non-null  object\n",
      " 4   price      1178743 non-null  object\n",
      " 5   cuisine_1  1178743 non-null  object\n",
      " 6   cuisine_2  937985 non-null   object\n",
      "dtypes: int64(2), object(5)\n",
      "memory usage: 71.9+ MB\n"
     ]
    }
   ],
   "source": [
    "menu_df_cleaned.info()"
   ]
  },
  {
   "cell_type": "code",
   "execution_count": 122,
   "metadata": {},
   "outputs": [
    {
     "data": {
      "text/plain": [
       "id                0\n",
       "menu_id           0\n",
       "r_id              0\n",
       "f_id              0\n",
       "price             0\n",
       "cuisine_1         0\n",
       "cuisine_2    240758\n",
       "dtype: int64"
      ]
     },
     "execution_count": 122,
     "metadata": {},
     "output_type": "execute_result"
    }
   ],
   "source": [
    "menu_df_cleaned.isnull().sum()"
   ]
  },
  {
   "attachments": {},
   "cell_type": "markdown",
   "metadata": {},
   "source": [
    "Check for rows where `cuisine_2` column contains a comma(more than one cusine)"
   ]
  },
  {
   "cell_type": "code",
   "execution_count": 123,
   "metadata": {},
   "outputs": [
    {
     "name": "stdout",
     "output_type": "stream",
     "text": [
      "Rows with commas in 'cuisine_2':\n",
      "Empty DataFrame\n",
      "Columns: [id, menu_id, r_id, f_id, price, cuisine_1, cuisine_2]\n",
      "Index: []\n"
     ]
    }
   ],
   "source": [
    "rows_with_commas = menu_df_cleaned[menu_df_cleaned['cuisine_2'].str.contains(',', na=False)]\n",
    "print(\"Rows with commas in 'cuisine_2':\")\n",
    "print(rows_with_commas)"
   ]
  },
  {
   "cell_type": "code",
   "execution_count": 127,
   "metadata": {},
   "outputs": [
    {
     "data": {
      "text/html": [
       "<div>\n",
       "<style scoped>\n",
       "    .dataframe tbody tr th:only-of-type {\n",
       "        vertical-align: middle;\n",
       "    }\n",
       "\n",
       "    .dataframe tbody tr th {\n",
       "        vertical-align: top;\n",
       "    }\n",
       "\n",
       "    .dataframe thead th {\n",
       "        text-align: right;\n",
       "    }\n",
       "</style>\n",
       "<table border=\"1\" class=\"dataframe\">\n",
       "  <thead>\n",
       "    <tr style=\"text-align: right;\">\n",
       "      <th></th>\n",
       "      <th>id</th>\n",
       "      <th>menu_id</th>\n",
       "      <th>r_id</th>\n",
       "      <th>f_id</th>\n",
       "      <th>price</th>\n",
       "      <th>cuisine_1</th>\n",
       "      <th>cuisine_2</th>\n",
       "    </tr>\n",
       "  </thead>\n",
       "  <tbody>\n",
       "    <tr>\n",
       "      <th>0</th>\n",
       "      <td>0</td>\n",
       "      <td>mn0</td>\n",
       "      <td>567335</td>\n",
       "      <td>fd0</td>\n",
       "      <td>40.0</td>\n",
       "      <td>Beverages</td>\n",
       "      <td>Pizzas</td>\n",
       "    </tr>\n",
       "    <tr>\n",
       "      <th>1</th>\n",
       "      <td>1</td>\n",
       "      <td>mn0</td>\n",
       "      <td>567335</td>\n",
       "      <td>fd669322</td>\n",
       "      <td>40.0</td>\n",
       "      <td>Beverages</td>\n",
       "      <td>Pizzas</td>\n",
       "    </tr>\n",
       "    <tr>\n",
       "      <th>2</th>\n",
       "      <td>2</td>\n",
       "      <td>mn328</td>\n",
       "      <td>158203</td>\n",
       "      <td>fd0</td>\n",
       "      <td>65.0</td>\n",
       "      <td>Beverages</td>\n",
       "      <td>None</td>\n",
       "    </tr>\n",
       "    <tr>\n",
       "      <th>3</th>\n",
       "      <td>3</td>\n",
       "      <td>mn328</td>\n",
       "      <td>158203</td>\n",
       "      <td>fd669322</td>\n",
       "      <td>65.0</td>\n",
       "      <td>Beverages</td>\n",
       "      <td>None</td>\n",
       "    </tr>\n",
       "    <tr>\n",
       "      <th>4</th>\n",
       "      <td>4</td>\n",
       "      <td>mn449</td>\n",
       "      <td>158203</td>\n",
       "      <td>fd0</td>\n",
       "      <td>65.0</td>\n",
       "      <td>Beverages</td>\n",
       "      <td>None</td>\n",
       "    </tr>\n",
       "  </tbody>\n",
       "</table>\n",
       "</div>"
      ],
      "text/plain": [
       "   id menu_id    r_id      f_id price  cuisine_1 cuisine_2\n",
       "0   0     mn0  567335       fd0  40.0  Beverages    Pizzas\n",
       "1   1     mn0  567335  fd669322  40.0  Beverages    Pizzas\n",
       "2   2   mn328  158203       fd0  65.0  Beverages      None\n",
       "3   3   mn328  158203  fd669322  65.0  Beverages      None\n",
       "4   4   mn449  158203       fd0  65.0  Beverages      None"
      ]
     },
     "execution_count": 127,
     "metadata": {},
     "output_type": "execute_result"
    }
   ],
   "source": [
    "menu_df_cleaned.head()"
   ]
  },
  {
   "cell_type": "code",
   "execution_count": 125,
   "metadata": {},
   "outputs": [],
   "source": [
    "menu_df_cleaned.to_csv('cleaned_menu_df.csv', index=False)"
   ]
  },
  {
   "cell_type": "code",
   "execution_count": 53,
   "metadata": {},
   "outputs": [
    {
     "data": {
      "text/html": [
       "<div>\n",
       "<style scoped>\n",
       "    .dataframe tbody tr th:only-of-type {\n",
       "        vertical-align: middle;\n",
       "    }\n",
       "\n",
       "    .dataframe tbody tr th {\n",
       "        vertical-align: top;\n",
       "    }\n",
       "\n",
       "    .dataframe thead th {\n",
       "        text-align: right;\n",
       "    }\n",
       "</style>\n",
       "<table border=\"1\" class=\"dataframe\">\n",
       "  <thead>\n",
       "    <tr style=\"text-align: right;\">\n",
       "      <th></th>\n",
       "      <th>Unnamed: 0</th>\n",
       "      <th>order_date</th>\n",
       "      <th>sales_qty</th>\n",
       "      <th>sales_amount</th>\n",
       "      <th>currency</th>\n",
       "      <th>user_id</th>\n",
       "      <th>r_id</th>\n",
       "    </tr>\n",
       "  </thead>\n",
       "  <tbody>\n",
       "    <tr>\n",
       "      <th>0</th>\n",
       "      <td>0</td>\n",
       "      <td>2017-10-10</td>\n",
       "      <td>100</td>\n",
       "      <td>41241</td>\n",
       "      <td>INR</td>\n",
       "      <td>49226</td>\n",
       "      <td>567335.0</td>\n",
       "    </tr>\n",
       "    <tr>\n",
       "      <th>1</th>\n",
       "      <td>1</td>\n",
       "      <td>2018-05-08</td>\n",
       "      <td>3</td>\n",
       "      <td>-1</td>\n",
       "      <td>INR</td>\n",
       "      <td>77359</td>\n",
       "      <td>531342.0</td>\n",
       "    </tr>\n",
       "    <tr>\n",
       "      <th>2</th>\n",
       "      <td>2</td>\n",
       "      <td>2018-04-06</td>\n",
       "      <td>1</td>\n",
       "      <td>875</td>\n",
       "      <td>INR</td>\n",
       "      <td>5321</td>\n",
       "      <td>158203.0</td>\n",
       "    </tr>\n",
       "    <tr>\n",
       "      <th>3</th>\n",
       "      <td>3</td>\n",
       "      <td>2018-04-11</td>\n",
       "      <td>1</td>\n",
       "      <td>583</td>\n",
       "      <td>INR</td>\n",
       "      <td>21343</td>\n",
       "      <td>187912.0</td>\n",
       "    </tr>\n",
       "    <tr>\n",
       "      <th>4</th>\n",
       "      <td>4</td>\n",
       "      <td>2018-06-18</td>\n",
       "      <td>6</td>\n",
       "      <td>7176</td>\n",
       "      <td>INR</td>\n",
       "      <td>75378</td>\n",
       "      <td>543530.0</td>\n",
       "    </tr>\n",
       "  </tbody>\n",
       "</table>\n",
       "</div>"
      ],
      "text/plain": [
       "   Unnamed: 0  order_date  sales_qty  sales_amount currency  user_id      r_id\n",
       "0           0  2017-10-10        100         41241      INR    49226  567335.0\n",
       "1           1  2018-05-08          3            -1      INR    77359  531342.0\n",
       "2           2  2018-04-06          1           875      INR     5321  158203.0\n",
       "3           3  2018-04-11          1           583      INR    21343  187912.0\n",
       "4           4  2018-06-18          6          7176      INR    75378  543530.0"
      ]
     },
     "execution_count": 53,
     "metadata": {},
     "output_type": "execute_result"
    }
   ],
   "source": [
    "orders_df.head()"
   ]
  },
  {
   "cell_type": "code",
   "execution_count": 54,
   "metadata": {},
   "outputs": [
    {
     "data": {
      "text/plain": [
       "Unnamed: 0         0\n",
       "order_date         0\n",
       "sales_qty          0\n",
       "sales_amount       0\n",
       "currency           0\n",
       "user_id            0\n",
       "r_id            1617\n",
       "dtype: int64"
      ]
     },
     "execution_count": 54,
     "metadata": {},
     "output_type": "execute_result"
    }
   ],
   "source": [
    "orders_df.isnull().sum()"
   ]
  },
  {
   "cell_type": "code",
   "execution_count": 55,
   "metadata": {},
   "outputs": [
    {
     "name": "stdout",
     "output_type": "stream",
     "text": [
      "<class 'pandas.core.frame.DataFrame'>\n",
      "RangeIndex: 150281 entries, 0 to 150280\n",
      "Data columns (total 7 columns):\n",
      " #   Column        Non-Null Count   Dtype  \n",
      "---  ------        --------------   -----  \n",
      " 0   Unnamed: 0    150281 non-null  int64  \n",
      " 1   order_date    150281 non-null  object \n",
      " 2   sales_qty     150281 non-null  int64  \n",
      " 3   sales_amount  150281 non-null  int64  \n",
      " 4   currency      150281 non-null  object \n",
      " 5   user_id       150281 non-null  int64  \n",
      " 6   r_id          148664 non-null  float64\n",
      "dtypes: float64(1), int64(4), object(2)\n",
      "memory usage: 8.0+ MB\n"
     ]
    }
   ],
   "source": [
    "orders_df.info()"
   ]
  },
  {
   "attachments": {},
   "cell_type": "markdown",
   "metadata": {},
   "source": [
    "Convert `order_date` to datetime"
   ]
  },
  {
   "cell_type": "code",
   "execution_count": 56,
   "metadata": {},
   "outputs": [],
   "source": [
    "orders_df['order_date'] = pd.to_datetime(orders_df['order_date'], errors='coerce')"
   ]
  },
  {
   "cell_type": "code",
   "execution_count": 57,
   "metadata": {},
   "outputs": [
    {
     "data": {
      "text/html": [
       "<div>\n",
       "<style scoped>\n",
       "    .dataframe tbody tr th:only-of-type {\n",
       "        vertical-align: middle;\n",
       "    }\n",
       "\n",
       "    .dataframe tbody tr th {\n",
       "        vertical-align: top;\n",
       "    }\n",
       "\n",
       "    .dataframe thead th {\n",
       "        text-align: right;\n",
       "    }\n",
       "</style>\n",
       "<table border=\"1\" class=\"dataframe\">\n",
       "  <thead>\n",
       "    <tr style=\"text-align: right;\">\n",
       "      <th></th>\n",
       "      <th>Unnamed: 0</th>\n",
       "      <th>order_date</th>\n",
       "      <th>sales_qty</th>\n",
       "      <th>sales_amount</th>\n",
       "      <th>currency</th>\n",
       "      <th>user_id</th>\n",
       "      <th>r_id</th>\n",
       "    </tr>\n",
       "  </thead>\n",
       "  <tbody>\n",
       "    <tr>\n",
       "      <th>0</th>\n",
       "      <td>0</td>\n",
       "      <td>2017-10-10</td>\n",
       "      <td>100</td>\n",
       "      <td>41241</td>\n",
       "      <td>INR</td>\n",
       "      <td>49226</td>\n",
       "      <td>567335.0</td>\n",
       "    </tr>\n",
       "    <tr>\n",
       "      <th>1</th>\n",
       "      <td>1</td>\n",
       "      <td>2018-05-08</td>\n",
       "      <td>3</td>\n",
       "      <td>-1</td>\n",
       "      <td>INR</td>\n",
       "      <td>77359</td>\n",
       "      <td>531342.0</td>\n",
       "    </tr>\n",
       "    <tr>\n",
       "      <th>2</th>\n",
       "      <td>2</td>\n",
       "      <td>2018-04-06</td>\n",
       "      <td>1</td>\n",
       "      <td>875</td>\n",
       "      <td>INR</td>\n",
       "      <td>5321</td>\n",
       "      <td>158203.0</td>\n",
       "    </tr>\n",
       "    <tr>\n",
       "      <th>3</th>\n",
       "      <td>3</td>\n",
       "      <td>2018-04-11</td>\n",
       "      <td>1</td>\n",
       "      <td>583</td>\n",
       "      <td>INR</td>\n",
       "      <td>21343</td>\n",
       "      <td>187912.0</td>\n",
       "    </tr>\n",
       "    <tr>\n",
       "      <th>4</th>\n",
       "      <td>4</td>\n",
       "      <td>2018-06-18</td>\n",
       "      <td>6</td>\n",
       "      <td>7176</td>\n",
       "      <td>INR</td>\n",
       "      <td>75378</td>\n",
       "      <td>543530.0</td>\n",
       "    </tr>\n",
       "    <tr>\n",
       "      <th>...</th>\n",
       "      <td>...</td>\n",
       "      <td>...</td>\n",
       "      <td>...</td>\n",
       "      <td>...</td>\n",
       "      <td>...</td>\n",
       "      <td>...</td>\n",
       "      <td>...</td>\n",
       "    </tr>\n",
       "    <tr>\n",
       "      <th>150276</th>\n",
       "      <td>150276</td>\n",
       "      <td>2019-04-18</td>\n",
       "      <td>1</td>\n",
       "      <td>394</td>\n",
       "      <td>INR\\r</td>\n",
       "      <td>79856</td>\n",
       "      <td>NaN</td>\n",
       "    </tr>\n",
       "    <tr>\n",
       "      <th>150277</th>\n",
       "      <td>150277</td>\n",
       "      <td>2019-04-23</td>\n",
       "      <td>1</td>\n",
       "      <td>667</td>\n",
       "      <td>INR\\r</td>\n",
       "      <td>65798</td>\n",
       "      <td>NaN</td>\n",
       "    </tr>\n",
       "    <tr>\n",
       "      <th>150278</th>\n",
       "      <td>150278</td>\n",
       "      <td>2019-04-23</td>\n",
       "      <td>1</td>\n",
       "      <td>625</td>\n",
       "      <td>INR\\r</td>\n",
       "      <td>49176</td>\n",
       "      <td>NaN</td>\n",
       "    </tr>\n",
       "    <tr>\n",
       "      <th>150279</th>\n",
       "      <td>150279</td>\n",
       "      <td>2019-04-24</td>\n",
       "      <td>7</td>\n",
       "      <td>8625</td>\n",
       "      <td>INR\\r</td>\n",
       "      <td>87924</td>\n",
       "      <td>NaN</td>\n",
       "    </tr>\n",
       "    <tr>\n",
       "      <th>150280</th>\n",
       "      <td>150280</td>\n",
       "      <td>2019-04-24</td>\n",
       "      <td>3</td>\n",
       "      <td>3792</td>\n",
       "      <td>INR\\r</td>\n",
       "      <td>41474</td>\n",
       "      <td>NaN</td>\n",
       "    </tr>\n",
       "  </tbody>\n",
       "</table>\n",
       "<p>150281 rows × 7 columns</p>\n",
       "</div>"
      ],
      "text/plain": [
       "        Unnamed: 0 order_date  sales_qty  sales_amount currency  user_id  \\\n",
       "0                0 2017-10-10        100         41241      INR    49226   \n",
       "1                1 2018-05-08          3            -1      INR    77359   \n",
       "2                2 2018-04-06          1           875      INR     5321   \n",
       "3                3 2018-04-11          1           583      INR    21343   \n",
       "4                4 2018-06-18          6          7176      INR    75378   \n",
       "...            ...        ...        ...           ...      ...      ...   \n",
       "150276      150276 2019-04-18          1           394    INR\\r    79856   \n",
       "150277      150277 2019-04-23          1           667    INR\\r    65798   \n",
       "150278      150278 2019-04-23          1           625    INR\\r    49176   \n",
       "150279      150279 2019-04-24          7          8625    INR\\r    87924   \n",
       "150280      150280 2019-04-24          3          3792    INR\\r    41474   \n",
       "\n",
       "            r_id  \n",
       "0       567335.0  \n",
       "1       531342.0  \n",
       "2       158203.0  \n",
       "3       187912.0  \n",
       "4       543530.0  \n",
       "...          ...  \n",
       "150276       NaN  \n",
       "150277       NaN  \n",
       "150278       NaN  \n",
       "150279       NaN  \n",
       "150280       NaN  \n",
       "\n",
       "[150281 rows x 7 columns]"
      ]
     },
     "execution_count": 57,
     "metadata": {},
     "output_type": "execute_result"
    }
   ],
   "source": [
    "orders_df"
   ]
  },
  {
   "cell_type": "code",
   "execution_count": 58,
   "metadata": {},
   "outputs": [
    {
     "name": "stderr",
     "output_type": "stream",
     "text": [
      "/var/folders/8h/hbj9kb412sz4vmszf826vrrc0000gn/T/ipykernel_59379/3335402645.py:3: SettingWithCopyWarning: \n",
      "A value is trying to be set on a copy of a slice from a DataFrame\n",
      "\n",
      "See the caveats in the documentation: https://pandas.pydata.org/pandas-docs/stable/user_guide/indexing.html#returning-a-view-versus-a-copy\n",
      "  cleaned_orders_df.rename(columns={\"Unnamed: 0\": \"order_id\"}, inplace=True)\n"
     ]
    }
   ],
   "source": [
    "# Filter out rows where 'sales_qty' or 'sales_amount' have negative values\n",
    "cleaned_orders_df = orders_df[(orders_df['sales_qty'] >= 0) & (orders_df['sales_amount'] >= 0)]\n",
    "cleaned_orders_df.rename(columns={\"Unnamed: 0\": \"order_id\"}, inplace=True)"
   ]
  },
  {
   "cell_type": "code",
   "execution_count": 59,
   "metadata": {},
   "outputs": [],
   "source": [
    "# Drop rows where 'r_id' column has NaN values\n",
    "cleaned_orders_df = cleaned_orders_df.dropna(subset=['r_id'])\n",
    "\n",
    "# Change the data type of 'r_id' column to int\n",
    "cleaned_orders_df['r_id'] = cleaned_orders_df['r_id'].astype(int)"
   ]
  },
  {
   "cell_type": "code",
   "execution_count": 60,
   "metadata": {},
   "outputs": [
    {
     "name": "stdout",
     "output_type": "stream",
     "text": [
      "<class 'pandas.core.frame.DataFrame'>\n",
      "Index: 148662 entries, 0 to 148663\n",
      "Data columns (total 7 columns):\n",
      " #   Column        Non-Null Count   Dtype         \n",
      "---  ------        --------------   -----         \n",
      " 0   order_id      148662 non-null  int64         \n",
      " 1   order_date    148662 non-null  datetime64[ns]\n",
      " 2   sales_qty     148662 non-null  int64         \n",
      " 3   sales_amount  148662 non-null  int64         \n",
      " 4   currency      148662 non-null  object        \n",
      " 5   user_id       148662 non-null  int64         \n",
      " 6   r_id          148662 non-null  int64         \n",
      "dtypes: datetime64[ns](1), int64(5), object(1)\n",
      "memory usage: 9.1+ MB\n"
     ]
    }
   ],
   "source": [
    "cleaned_orders_df.info()"
   ]
  },
  {
   "cell_type": "code",
   "execution_count": 134,
   "metadata": {},
   "outputs": [
    {
     "data": {
      "text/html": [
       "<div>\n",
       "<style scoped>\n",
       "    .dataframe tbody tr th:only-of-type {\n",
       "        vertical-align: middle;\n",
       "    }\n",
       "\n",
       "    .dataframe tbody tr th {\n",
       "        vertical-align: top;\n",
       "    }\n",
       "\n",
       "    .dataframe thead th {\n",
       "        text-align: right;\n",
       "    }\n",
       "</style>\n",
       "<table border=\"1\" class=\"dataframe\">\n",
       "  <thead>\n",
       "    <tr style=\"text-align: right;\">\n",
       "      <th></th>\n",
       "      <th>order_id</th>\n",
       "      <th>order_date</th>\n",
       "      <th>sales_qty</th>\n",
       "      <th>sales_amount</th>\n",
       "      <th>currency</th>\n",
       "      <th>user_id</th>\n",
       "      <th>r_id</th>\n",
       "    </tr>\n",
       "  </thead>\n",
       "  <tbody>\n",
       "    <tr>\n",
       "      <th>0</th>\n",
       "      <td>0</td>\n",
       "      <td>2017-10-10</td>\n",
       "      <td>100</td>\n",
       "      <td>41241</td>\n",
       "      <td>INR</td>\n",
       "      <td>49226</td>\n",
       "      <td>567335</td>\n",
       "    </tr>\n",
       "    <tr>\n",
       "      <th>2</th>\n",
       "      <td>2</td>\n",
       "      <td>2018-04-06</td>\n",
       "      <td>1</td>\n",
       "      <td>875</td>\n",
       "      <td>INR</td>\n",
       "      <td>5321</td>\n",
       "      <td>158203</td>\n",
       "    </tr>\n",
       "    <tr>\n",
       "      <th>3</th>\n",
       "      <td>3</td>\n",
       "      <td>2018-04-11</td>\n",
       "      <td>1</td>\n",
       "      <td>583</td>\n",
       "      <td>INR</td>\n",
       "      <td>21343</td>\n",
       "      <td>187912</td>\n",
       "    </tr>\n",
       "    <tr>\n",
       "      <th>4</th>\n",
       "      <td>4</td>\n",
       "      <td>2018-06-18</td>\n",
       "      <td>6</td>\n",
       "      <td>7176</td>\n",
       "      <td>INR</td>\n",
       "      <td>75378</td>\n",
       "      <td>543530</td>\n",
       "    </tr>\n",
       "    <tr>\n",
       "      <th>5</th>\n",
       "      <td>5</td>\n",
       "      <td>2017-11-20</td>\n",
       "      <td>59</td>\n",
       "      <td>500</td>\n",
       "      <td>USD</td>\n",
       "      <td>34323</td>\n",
       "      <td>158204</td>\n",
       "    </tr>\n",
       "    <tr>\n",
       "      <th>...</th>\n",
       "      <td>...</td>\n",
       "      <td>...</td>\n",
       "      <td>...</td>\n",
       "      <td>...</td>\n",
       "      <td>...</td>\n",
       "      <td>...</td>\n",
       "      <td>...</td>\n",
       "    </tr>\n",
       "    <tr>\n",
       "      <th>148659</th>\n",
       "      <td>148659</td>\n",
       "      <td>2019-03-15</td>\n",
       "      <td>1</td>\n",
       "      <td>1630</td>\n",
       "      <td>INR\\r</td>\n",
       "      <td>25901</td>\n",
       "      <td>390478</td>\n",
       "    </tr>\n",
       "    <tr>\n",
       "      <th>148660</th>\n",
       "      <td>148660</td>\n",
       "      <td>2019-03-15</td>\n",
       "      <td>1</td>\n",
       "      <td>2611</td>\n",
       "      <td>INR\\r</td>\n",
       "      <td>97820</td>\n",
       "      <td>103649</td>\n",
       "    </tr>\n",
       "    <tr>\n",
       "      <th>148661</th>\n",
       "      <td>148661</td>\n",
       "      <td>2019-03-15</td>\n",
       "      <td>7</td>\n",
       "      <td>10458</td>\n",
       "      <td>INR\\r</td>\n",
       "      <td>6041</td>\n",
       "      <td>430451</td>\n",
       "    </tr>\n",
       "    <tr>\n",
       "      <th>148662</th>\n",
       "      <td>148662</td>\n",
       "      <td>2019-03-18</td>\n",
       "      <td>1</td>\n",
       "      <td>713</td>\n",
       "      <td>INR\\r</td>\n",
       "      <td>81310</td>\n",
       "      <td>518548</td>\n",
       "    </tr>\n",
       "    <tr>\n",
       "      <th>148663</th>\n",
       "      <td>148663</td>\n",
       "      <td>2019-03-18</td>\n",
       "      <td>1</td>\n",
       "      <td>1741</td>\n",
       "      <td>INR\\r</td>\n",
       "      <td>944</td>\n",
       "      <td>518819</td>\n",
       "    </tr>\n",
       "  </tbody>\n",
       "</table>\n",
       "<p>148662 rows × 7 columns</p>\n",
       "</div>"
      ],
      "text/plain": [
       "        order_id order_date  sales_qty  sales_amount currency  user_id    r_id\n",
       "0              0 2017-10-10        100         41241      INR    49226  567335\n",
       "2              2 2018-04-06          1           875      INR     5321  158203\n",
       "3              3 2018-04-11          1           583      INR    21343  187912\n",
       "4              4 2018-06-18          6          7176      INR    75378  543530\n",
       "5              5 2017-11-20         59           500      USD    34323  158204\n",
       "...          ...        ...        ...           ...      ...      ...     ...\n",
       "148659    148659 2019-03-15          1          1630    INR\\r    25901  390478\n",
       "148660    148660 2019-03-15          1          2611    INR\\r    97820  103649\n",
       "148661    148661 2019-03-15          7         10458    INR\\r     6041  430451\n",
       "148662    148662 2019-03-18          1           713    INR\\r    81310  518548\n",
       "148663    148663 2019-03-18          1          1741    INR\\r      944  518819\n",
       "\n",
       "[148662 rows x 7 columns]"
      ]
     },
     "execution_count": 134,
     "metadata": {},
     "output_type": "execute_result"
    }
   ],
   "source": [
    "cleaned_orders_df"
   ]
  },
  {
   "cell_type": "code",
   "execution_count": 135,
   "metadata": {},
   "outputs": [],
   "source": [
    "cleaned_orders_df['currency'] = cleaned_orders_df['currency'].str.strip()  # Remove leading and trailing whitespace, including carriage returns"
   ]
  },
  {
   "cell_type": "code",
   "execution_count": 136,
   "metadata": {},
   "outputs": [
    {
     "data": {
      "text/html": [
       "<div>\n",
       "<style scoped>\n",
       "    .dataframe tbody tr th:only-of-type {\n",
       "        vertical-align: middle;\n",
       "    }\n",
       "\n",
       "    .dataframe tbody tr th {\n",
       "        vertical-align: top;\n",
       "    }\n",
       "\n",
       "    .dataframe thead th {\n",
       "        text-align: right;\n",
       "    }\n",
       "</style>\n",
       "<table border=\"1\" class=\"dataframe\">\n",
       "  <thead>\n",
       "    <tr style=\"text-align: right;\">\n",
       "      <th></th>\n",
       "      <th>order_id</th>\n",
       "      <th>order_date</th>\n",
       "      <th>sales_qty</th>\n",
       "      <th>sales_amount</th>\n",
       "      <th>currency</th>\n",
       "      <th>user_id</th>\n",
       "      <th>r_id</th>\n",
       "    </tr>\n",
       "  </thead>\n",
       "  <tbody>\n",
       "    <tr>\n",
       "      <th>0</th>\n",
       "      <td>0</td>\n",
       "      <td>2017-10-10</td>\n",
       "      <td>100</td>\n",
       "      <td>41241</td>\n",
       "      <td>INR</td>\n",
       "      <td>49226</td>\n",
       "      <td>567335</td>\n",
       "    </tr>\n",
       "    <tr>\n",
       "      <th>2</th>\n",
       "      <td>2</td>\n",
       "      <td>2018-04-06</td>\n",
       "      <td>1</td>\n",
       "      <td>875</td>\n",
       "      <td>INR</td>\n",
       "      <td>5321</td>\n",
       "      <td>158203</td>\n",
       "    </tr>\n",
       "    <tr>\n",
       "      <th>3</th>\n",
       "      <td>3</td>\n",
       "      <td>2018-04-11</td>\n",
       "      <td>1</td>\n",
       "      <td>583</td>\n",
       "      <td>INR</td>\n",
       "      <td>21343</td>\n",
       "      <td>187912</td>\n",
       "    </tr>\n",
       "    <tr>\n",
       "      <th>4</th>\n",
       "      <td>4</td>\n",
       "      <td>2018-06-18</td>\n",
       "      <td>6</td>\n",
       "      <td>7176</td>\n",
       "      <td>INR</td>\n",
       "      <td>75378</td>\n",
       "      <td>543530</td>\n",
       "    </tr>\n",
       "    <tr>\n",
       "      <th>5</th>\n",
       "      <td>5</td>\n",
       "      <td>2017-11-20</td>\n",
       "      <td>59</td>\n",
       "      <td>500</td>\n",
       "      <td>USD</td>\n",
       "      <td>34323</td>\n",
       "      <td>158204</td>\n",
       "    </tr>\n",
       "    <tr>\n",
       "      <th>...</th>\n",
       "      <td>...</td>\n",
       "      <td>...</td>\n",
       "      <td>...</td>\n",
       "      <td>...</td>\n",
       "      <td>...</td>\n",
       "      <td>...</td>\n",
       "      <td>...</td>\n",
       "    </tr>\n",
       "    <tr>\n",
       "      <th>148659</th>\n",
       "      <td>148659</td>\n",
       "      <td>2019-03-15</td>\n",
       "      <td>1</td>\n",
       "      <td>1630</td>\n",
       "      <td>INR</td>\n",
       "      <td>25901</td>\n",
       "      <td>390478</td>\n",
       "    </tr>\n",
       "    <tr>\n",
       "      <th>148660</th>\n",
       "      <td>148660</td>\n",
       "      <td>2019-03-15</td>\n",
       "      <td>1</td>\n",
       "      <td>2611</td>\n",
       "      <td>INR</td>\n",
       "      <td>97820</td>\n",
       "      <td>103649</td>\n",
       "    </tr>\n",
       "    <tr>\n",
       "      <th>148661</th>\n",
       "      <td>148661</td>\n",
       "      <td>2019-03-15</td>\n",
       "      <td>7</td>\n",
       "      <td>10458</td>\n",
       "      <td>INR</td>\n",
       "      <td>6041</td>\n",
       "      <td>430451</td>\n",
       "    </tr>\n",
       "    <tr>\n",
       "      <th>148662</th>\n",
       "      <td>148662</td>\n",
       "      <td>2019-03-18</td>\n",
       "      <td>1</td>\n",
       "      <td>713</td>\n",
       "      <td>INR</td>\n",
       "      <td>81310</td>\n",
       "      <td>518548</td>\n",
       "    </tr>\n",
       "    <tr>\n",
       "      <th>148663</th>\n",
       "      <td>148663</td>\n",
       "      <td>2019-03-18</td>\n",
       "      <td>1</td>\n",
       "      <td>1741</td>\n",
       "      <td>INR</td>\n",
       "      <td>944</td>\n",
       "      <td>518819</td>\n",
       "    </tr>\n",
       "  </tbody>\n",
       "</table>\n",
       "<p>148662 rows × 7 columns</p>\n",
       "</div>"
      ],
      "text/plain": [
       "        order_id order_date  sales_qty  sales_amount currency  user_id    r_id\n",
       "0              0 2017-10-10        100         41241      INR    49226  567335\n",
       "2              2 2018-04-06          1           875      INR     5321  158203\n",
       "3              3 2018-04-11          1           583      INR    21343  187912\n",
       "4              4 2018-06-18          6          7176      INR    75378  543530\n",
       "5              5 2017-11-20         59           500      USD    34323  158204\n",
       "...          ...        ...        ...           ...      ...      ...     ...\n",
       "148659    148659 2019-03-15          1          1630      INR    25901  390478\n",
       "148660    148660 2019-03-15          1          2611      INR    97820  103649\n",
       "148661    148661 2019-03-15          7         10458      INR     6041  430451\n",
       "148662    148662 2019-03-18          1           713      INR    81310  518548\n",
       "148663    148663 2019-03-18          1          1741      INR      944  518819\n",
       "\n",
       "[148662 rows x 7 columns]"
      ]
     },
     "execution_count": 136,
     "metadata": {},
     "output_type": "execute_result"
    }
   ],
   "source": [
    "cleaned_orders_df"
   ]
  },
  {
   "cell_type": "code",
   "execution_count": 137,
   "metadata": {},
   "outputs": [],
   "source": [
    "cleaned_orders_df.to_csv('cleaned_orders_df.csv', index=False)"
   ]
  },
  {
   "cell_type": "code",
   "execution_count": 63,
   "metadata": {},
   "outputs": [
    {
     "data": {
      "text/plain": [
       "Unnamed: 0                    0\n",
       "user_id                       0\n",
       "name                          0\n",
       "email                         0\n",
       "password                      0\n",
       "Age                           0\n",
       "Gender                        0\n",
       "Marital Status                0\n",
       "Occupation                    0\n",
       "Monthly Income                0\n",
       "Educational Qualifications    0\n",
       "Family size                   0\n",
       "dtype: int64"
      ]
     },
     "execution_count": 63,
     "metadata": {},
     "output_type": "execute_result"
    }
   ],
   "source": [
    "users_df.isnull().sum()"
   ]
  },
  {
   "cell_type": "code",
   "execution_count": 64,
   "metadata": {},
   "outputs": [
    {
     "name": "stdout",
     "output_type": "stream",
     "text": [
      "<class 'pandas.core.frame.DataFrame'>\n",
      "RangeIndex: 100000 entries, 0 to 99999\n",
      "Data columns (total 12 columns):\n",
      " #   Column                      Non-Null Count   Dtype \n",
      "---  ------                      --------------   ----- \n",
      " 0   Unnamed: 0                  100000 non-null  int64 \n",
      " 1   user_id                     100000 non-null  int64 \n",
      " 2   name                        100000 non-null  object\n",
      " 3   email                       100000 non-null  object\n",
      " 4   password                    100000 non-null  object\n",
      " 5   Age                         100000 non-null  int64 \n",
      " 6   Gender                      100000 non-null  object\n",
      " 7   Marital Status              100000 non-null  object\n",
      " 8   Occupation                  100000 non-null  object\n",
      " 9   Monthly Income              100000 non-null  object\n",
      " 10  Educational Qualifications  100000 non-null  object\n",
      " 11  Family size                 100000 non-null  int64 \n",
      "dtypes: int64(4), object(8)\n",
      "memory usage: 9.2+ MB\n"
     ]
    }
   ],
   "source": [
    "users_df.info()"
   ]
  },
  {
   "cell_type": "code",
   "execution_count": 65,
   "metadata": {},
   "outputs": [],
   "source": [
    "users_df_updated = users_df.drop(['Unnamed: 0','email','password'], axis=1)"
   ]
  },
  {
   "cell_type": "code",
   "execution_count": 66,
   "metadata": {},
   "outputs": [
    {
     "data": {
      "text/plain": [
       "array([4, 3, 6, 2, 5, 1])"
      ]
     },
     "execution_count": 66,
     "metadata": {},
     "output_type": "execute_result"
    }
   ],
   "source": [
    "users_df_updated['Family size'].unique()"
   ]
  },
  {
   "cell_type": "code",
   "execution_count": 67,
   "metadata": {},
   "outputs": [],
   "source": [
    "users_df_updated.to_csv('cleaned_users_df.csv', index=False)"
   ]
  },
  {
   "cell_type": "code",
   "execution_count": 68,
   "metadata": {},
   "outputs": [
    {
     "data": {
      "text/html": [
       "<div>\n",
       "<style scoped>\n",
       "    .dataframe tbody tr th:only-of-type {\n",
       "        vertical-align: middle;\n",
       "    }\n",
       "\n",
       "    .dataframe tbody tr th {\n",
       "        vertical-align: top;\n",
       "    }\n",
       "\n",
       "    .dataframe thead th {\n",
       "        text-align: right;\n",
       "    }\n",
       "</style>\n",
       "<table border=\"1\" class=\"dataframe\">\n",
       "  <thead>\n",
       "    <tr style=\"text-align: right;\">\n",
       "      <th></th>\n",
       "      <th>user_id</th>\n",
       "      <th>name</th>\n",
       "      <th>Age</th>\n",
       "      <th>Gender</th>\n",
       "      <th>Marital Status</th>\n",
       "      <th>Occupation</th>\n",
       "      <th>Monthly Income</th>\n",
       "      <th>Educational Qualifications</th>\n",
       "      <th>Family size</th>\n",
       "    </tr>\n",
       "  </thead>\n",
       "  <tbody>\n",
       "    <tr>\n",
       "      <th>0</th>\n",
       "      <td>1</td>\n",
       "      <td>Claire Ferguson</td>\n",
       "      <td>20</td>\n",
       "      <td>Female</td>\n",
       "      <td>Single</td>\n",
       "      <td>Student</td>\n",
       "      <td>No Income</td>\n",
       "      <td>Post Graduate</td>\n",
       "      <td>4</td>\n",
       "    </tr>\n",
       "    <tr>\n",
       "      <th>1</th>\n",
       "      <td>2</td>\n",
       "      <td>Jennifer Young</td>\n",
       "      <td>24</td>\n",
       "      <td>Female</td>\n",
       "      <td>Single</td>\n",
       "      <td>Student</td>\n",
       "      <td>Below Rs.10000</td>\n",
       "      <td>Graduate</td>\n",
       "      <td>3</td>\n",
       "    </tr>\n",
       "    <tr>\n",
       "      <th>2</th>\n",
       "      <td>3</td>\n",
       "      <td>Jermaine Roberson</td>\n",
       "      <td>22</td>\n",
       "      <td>Male</td>\n",
       "      <td>Single</td>\n",
       "      <td>Student</td>\n",
       "      <td>Below Rs.10000</td>\n",
       "      <td>Post Graduate</td>\n",
       "      <td>3</td>\n",
       "    </tr>\n",
       "    <tr>\n",
       "      <th>3</th>\n",
       "      <td>4</td>\n",
       "      <td>Rachel Carpenter</td>\n",
       "      <td>22</td>\n",
       "      <td>Female</td>\n",
       "      <td>Single</td>\n",
       "      <td>Student</td>\n",
       "      <td>No Income</td>\n",
       "      <td>Graduate</td>\n",
       "      <td>6</td>\n",
       "    </tr>\n",
       "    <tr>\n",
       "      <th>4</th>\n",
       "      <td>5</td>\n",
       "      <td>Shawn Parker</td>\n",
       "      <td>22</td>\n",
       "      <td>Male</td>\n",
       "      <td>Single</td>\n",
       "      <td>Student</td>\n",
       "      <td>Below Rs.10000</td>\n",
       "      <td>Post Graduate</td>\n",
       "      <td>4</td>\n",
       "    </tr>\n",
       "  </tbody>\n",
       "</table>\n",
       "</div>"
      ],
      "text/plain": [
       "   user_id               name  Age  Gender Marital Status Occupation  \\\n",
       "0        1    Claire Ferguson   20  Female         Single    Student   \n",
       "1        2     Jennifer Young   24  Female         Single    Student   \n",
       "2        3  Jermaine Roberson   22    Male         Single    Student   \n",
       "3        4   Rachel Carpenter   22  Female         Single    Student   \n",
       "4        5       Shawn Parker   22    Male         Single    Student   \n",
       "\n",
       "   Monthly Income Educational Qualifications  Family size  \n",
       "0       No Income              Post Graduate            4  \n",
       "1  Below Rs.10000                   Graduate            3  \n",
       "2  Below Rs.10000              Post Graduate            3  \n",
       "3       No Income                   Graduate            6  \n",
       "4  Below Rs.10000              Post Graduate            4  "
      ]
     },
     "execution_count": 68,
     "metadata": {},
     "output_type": "execute_result"
    }
   ],
   "source": [
    "users_df_updated.head()"
   ]
  }
 ],
 "metadata": {
  "kernelspec": {
   "display_name": "Python 3",
   "language": "python",
   "name": "python3"
  },
  "language_info": {
   "codemirror_mode": {
    "name": "ipython",
    "version": 3
   },
   "file_extension": ".py",
   "mimetype": "text/x-python",
   "name": "python",
   "nbconvert_exporter": "python",
   "pygments_lexer": "ipython3",
   "version": "3.11.4"
  },
  "orig_nbformat": 4
 },
 "nbformat": 4,
 "nbformat_minor": 2
}
